{
 "cells": [
  {
   "cell_type": "code",
   "execution_count": 1,
   "metadata": {},
   "outputs": [],
   "source": [
    "import numpy as np\n",
    "import json\n",
    "import random"
   ]
  },
  {
   "cell_type": "code",
   "execution_count": 2,
   "metadata": {},
   "outputs": [],
   "source": [
    "with open('./results/data.json') as json_file:\n",
    "    data = json.load(json_file)\n",
    "with open('./results/data_lema.json') as json_file:\n",
    "    data_lema = json.load(json_file)\n",
    "with open('./results/data_pos.json') as json_file:\n",
    "    data_len = json.load(json_file)\n",
    "\n",
    "words = np.load(\"words.npy\")"
   ]
  },
  {
   "cell_type": "code",
   "execution_count": 3,
   "metadata": {},
   "outputs": [
    {
     "name": "stdout",
     "output_type": "stream",
     "text": [
      "['leto' 'dan' 'konec' 'svet' 'stran' 'mesto' 'šola' 'ura' 'beseda' 'pot'\n",
      " 'red' 'zakon' 'zadeva' 'srce' 'tema' 'resnica' 'moški' 'vloga' 'kraj'\n",
      " 'stanje' 'škoda' 'film' 'večer' 'vrh' 'jutro' 'kazen' 'oblast' 'račun'\n",
      " 'novica' 'milijon' 'par' 'krog' 'tip' 'punca' 'sila' 'vir' 'las' 'akcija'\n",
      " 'meter' 'prst' 'kri' 'stik' 'grad' 'znak' 'lik' 'direktor' 'vodja'\n",
      " 'raven' 'kolo' 'rob' 'gost' 'duh' 'praznik' 'vest' 'korist' 'vedenje'\n",
      " 'tek' 'kup' 'otok' 'razstava' 'bitje' 'motor' 'karta' 'nevarnost'\n",
      " 'hitrost' 'kos' 'zob' 'stroj' 'kamen' 'župan' 'šef' 'vrtec' 'kot' 'deček'\n",
      " 'avgust' 'tok' 'jezero' 'klop' 'čelo' 'hip' 'kupec' 'pojav' 'čaj'\n",
      " 'postava' 'dolg' 'standard' 'jesen' 'rak' 'grob' 'plus' 'les' 'vez'\n",
      " 'polica' 'minus' 'plan' 'posoda' 'restavracija' 'jok' 'krilo' 'sol' 'rod'\n",
      " 'stres' 'trditev' 'faks' 'sled' 'gol' 'župnik' 'servis' 'prid' 'ustava'\n",
      " 'mora' 'pop' 'lokal' 'prevod' 'bazen' 'veda' 'plaža' 'pesek'\n",
      " 'opravljanje' 'bolnica' 'hoja' 'raj' 'maček' 'baza' 'kocka' 'sejem' 'bar'\n",
      " 'hodnik' 'lisica' 'skala' 'lev' 'vek' 'talent' 'peč' 'termin' 'krivec'\n",
      " 'lega' 'tableta' 'pogajanje' 'obrat' 'kampanja' 'očka' 'med' 'stop'\n",
      " 'plast' 'golf' 'mina' 'kip' 'pod' 'para' 'prilika' 'slovo' 'piknik'\n",
      " 'boja' 'krajina' 'nona' 'odpuščanje' 'draga' 'faktor' 'bit' 'vodnik'\n",
      " 'razgled' 'popoldan' 'pol' 'obresti' 'paša' 'pust' 'teza' 'koda'\n",
      " 'predsodek' 'instrument' 'smuč' 'pečica' 'nestrpnost' 'lok' 'bob' 'obrt'\n",
      " 'kopanje' 'rez' 'pok' 'jarek' 'peščica' 'metal' 'palček' 'ruta' 'solo'\n",
      " 'hod']\n"
     ]
    }
   ],
   "source": [
    "print(words)"
   ]
  },
  {
   "cell_type": "markdown",
   "metadata": {},
   "source": [
    "Examples of gol (naked)"
   ]
  },
  {
   "cell_type": "code",
   "execution_count": 13,
   "metadata": {},
   "outputs": [
    {
     "data": {
      "text/plain": [
       "10067"
      ]
     },
     "execution_count": 13,
     "metadata": {},
     "output_type": "execute_result"
    }
   ],
   "source": [
    "len(data['gol'])"
   ]
  },
  {
   "cell_type": "code",
   "execution_count": 70,
   "metadata": {},
   "outputs": [
    {
     "name": "stdout",
     "output_type": "stream",
     "text": [
      "['Nič', 'ni', 'rekla', 'le', 'svoje', 'gole', 'umazane', 'noge', 'je', 'razmaknila', 'in', 'se', 'pri', 'tem', 'skrivnostno', 'smehljala']\n",
      "['nič', 'biti', 'reči', 'le', 'svoj', 'gol', 'umazan', 'noga', 'biti', 'razmakniti', 'in', 'se', 'pri', 'ta', 'skrivnostno', 'smehljati']\n",
      "6\n"
     ]
    }
   ],
   "source": [
    "print(data['gol'][258])\n",
    "print(data_lema['gol'][258])\n",
    "print(data_len['gol'][258])"
   ]
  },
  {
   "cell_type": "code",
   "execution_count": 73,
   "metadata": {},
   "outputs": [
    {
     "name": "stdout",
     "output_type": "stream",
     "text": [
      "['Lastniki', 'so', 'bili', 'bogataši', 'iz', 'Obreža', 'otroci', 'pa', 'smo', 'bili', 'skorajda', 'goli', 'bosi', 'in', 'lačni']\n",
      "['lastnik', 'biti', 'biti', 'bogataš', 'iz', 'Obrež', 'otrok', 'pa', 'biti', 'biti', 'skorajda', 'gol', 'bos', 'in', 'lačen']\n",
      "12\n"
     ]
    }
   ],
   "source": [
    "print(data['gol'][3355])\n",
    "print(data_lema['gol'][3355])\n",
    "print(data_len['gol'][3355])"
   ]
  },
  {
   "cell_type": "markdown",
   "metadata": {},
   "source": [
    "Examples of gol (goal)"
   ]
  },
  {
   "cell_type": "code",
   "execution_count": 96,
   "metadata": {},
   "outputs": [
    {
     "name": "stdout",
     "output_type": "stream",
     "text": [
      "['V', '9.', 'minuti', 'je', 'Birsa', 'lepo', 'podal', 'pred', 'gol', 'pritekel', 'je', 'Milivoje', 'Novakovič', 'ki', 'pa', 'je', 'zgrešil', 'celo', 'žogo']\n",
      "['v', '9.', 'minuta', 'biti', 'Birsa', 'lepo', 'podati', 'pred', 'gol', 'priteči', 'biti', 'Milivoje', 'Novakovič', 'ki', 'pa', 'biti', 'zgrešiti', 'cel', 'žoga']\n",
      "8\n"
     ]
    }
   ],
   "source": [
    "print(data['gol'][7743])\n",
    "print(data_lema['gol'][7743])\n",
    "print(data_len['gol'][7743])"
   ]
  },
  {
   "cell_type": "code",
   "execution_count": 84,
   "metadata": {},
   "outputs": [
    {
     "name": "stdout",
     "output_type": "stream",
     "text": [
      "['Ko', 'je', 'že', 'vse', 'kazalo', 'da', 'se', 'bo', 'polčas', 'končal', 'brez', 'golov', 'je', 'Slovenija', 'iz', 'prve', 'prave', 'priložnosti', 'v', 'sodnikovem', 'podaljšku', 'zadela']\n",
      "['ko', 'biti', 'že', 'ves', 'kazati', 'da', 'se', 'biti', 'polčas', 'končati', 'brez', 'gol', 'biti', 'Slovenija', 'iz', 'prvi', 'pravi', 'priložnost', 'v', 'sodnikov', 'podaljšek', 'zadeti']\n",
      "12\n"
     ]
    }
   ],
   "source": [
    "print(data['gol'][7909])\n",
    "print(data_lema['gol'][7909])\n",
    "print(data_len['gol'][7909])"
   ]
  },
  {
   "cell_type": "markdown",
   "metadata": {},
   "source": [
    "Examples of kopanje (bathing)"
   ]
  },
  {
   "cell_type": "code",
   "execution_count": 53,
   "metadata": {},
   "outputs": [
    {
     "data": {
      "text/plain": [
       "989"
      ]
     },
     "execution_count": 53,
     "metadata": {},
     "output_type": "execute_result"
    }
   ],
   "source": [
    "len(data['kopanje'])"
   ]
  },
  {
   "cell_type": "code",
   "execution_count": 24,
   "metadata": {},
   "outputs": [
    {
     "name": "stdout",
     "output_type": "stream",
     "text": [
      "['Kopanje', 'ob', 'španski', 'obali', 'je', 'spet', 'bolj', 'varno', 'saj', 'je', 'kolonija', 'meduz', 'odplavala', 'naprej']\n",
      "['kopanje', 'ob', 'španski', 'obala', 'biti', 'spet', 'bolj', 'varen', 'saj', 'biti', 'kolonija', 'meduza', 'odplavati', 'naprej']\n",
      "0\n"
     ]
    }
   ],
   "source": [
    "print(data['kopanje'][958])\n",
    "print(data_lema['kopanje'][958])\n",
    "print(data_len['kopanje'][958])"
   ]
  },
  {
   "cell_type": "code",
   "execution_count": 22,
   "metadata": {},
   "outputs": [
    {
     "name": "stdout",
     "output_type": "stream",
     "text": [
      "['Dojenček', 'potrebuje', 'nego', 'in', 'kopanje']\n",
      "['dojenček', 'potrebovati', 'nega', 'in', 'kopanje']\n",
      "4\n"
     ]
    }
   ],
   "source": [
    "print(data['kopanje'][962])\n",
    "print(data_lema['kopanje'][962])\n",
    "print(data_len['kopanje'][962])"
   ]
  },
  {
   "cell_type": "markdown",
   "metadata": {},
   "source": [
    "Examples of kopanje (dig)"
   ]
  },
  {
   "cell_type": "code",
   "execution_count": 52,
   "metadata": {},
   "outputs": [
    {
     "name": "stdout",
     "output_type": "stream",
     "text": [
      "['Največ', 'je', 'prineslo', 'kopanje', 'vinogradov', 'v', 'Trški', 'gori']\n",
      "['največ', 'biti', 'prinesti', 'kopanje', 'vinograd', 'v', 'trški', 'gora']\n",
      "3\n"
     ]
    }
   ],
   "source": [
    "print(data['kopanje'][379])\n",
    "print(data_lema['kopanje'][379])\n",
    "print(data_len['kopanje'][379])"
   ]
  },
  {
   "cell_type": "code",
   "execution_count": 18,
   "metadata": {},
   "outputs": [
    {
     "name": "stdout",
     "output_type": "stream",
     "text": [
      "['Noge', 'uporablja', 'za', 'tekanje', 'skakanje', 'in', 'kopanje', 'lukenj']\n",
      "['noga', 'uporabljati', 'za', 'tekanje', 'skakanje', 'in', 'kopanje', 'luknja']\n",
      "7\n"
     ]
    }
   ],
   "source": [
    "print(data['kopanje'][817])\n",
    "print(data_lema['kopanje'][817])\n",
    "print(data_len['kopanje'][817])"
   ]
  },
  {
   "cell_type": "markdown",
   "metadata": {},
   "source": [
    "Look at random sentence"
   ]
  },
  {
   "cell_type": "code",
   "execution_count": 51,
   "metadata": {},
   "outputs": [
    {
     "name": "stdout",
     "output_type": "stream",
     "text": [
      "['Največ', 'je', 'prineslo', 'kopanje', 'vinogradov', 'v', 'Trški', 'gori']\n"
     ]
    },
    {
     "data": {
      "text/plain": [
       "379"
      ]
     },
     "execution_count": 51,
     "metadata": {},
     "output_type": "execute_result"
    }
   ],
   "source": [
    "ri = random.randint(0,len(data['kopanje']))\n",
    "print(data['kopanje'][ri])\n",
    "ri"
   ]
  }
 ],
 "metadata": {
  "interpreter": {
   "hash": "50fff74db5efa089f0cf074252ae1d0598cf466eb2ddcbc87b731bd367568352"
  },
  "kernelspec": {
   "display_name": "Python 3.8.12 ('ids')",
   "language": "python",
   "name": "python3"
  },
  "language_info": {
   "codemirror_mode": {
    "name": "ipython",
    "version": 3
   },
   "file_extension": ".py",
   "mimetype": "text/x-python",
   "name": "python",
   "nbconvert_exporter": "python",
   "pygments_lexer": "ipython3",
   "version": "3.8.12"
  },
  "orig_nbformat": 4
 },
 "nbformat": 4,
 "nbformat_minor": 2
}
