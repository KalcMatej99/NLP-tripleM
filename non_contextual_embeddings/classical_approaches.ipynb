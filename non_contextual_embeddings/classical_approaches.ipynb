{
 "cells": [
  {
   "cell_type": "code",
   "execution_count": 1,
   "metadata": {},
   "outputs": [],
   "source": [
    "import zipfile\n",
    "import gensim\n",
    "import numpy as np\n",
    "import json\n",
    "import random\n",
    "from sklearn.metrics import pairwise_distances\n",
    "from scipy.spatial.distance import cosine\n",
    "from sklearn.cluster import AgglomerativeClustering, SpectralClustering, DBSCAN\n",
    "from collections import Counter\n",
    "import matplotlib.pyplot as plt\n",
    "from scipy.stats import gaussian_kde\n",
    "#import classla\n",
    "#import fasttext.util"
   ]
  },
  {
   "cell_type": "code",
   "execution_count": 2,
   "metadata": {},
   "outputs": [],
   "source": [
    "#Some utility functions which are used\n",
    "def cos_similarity(x, y):\n",
    "    return np.dot(x, y) / (np.linalg.norm(x) * np.linalg.norm(y))\n",
    "\n",
    "def remove_diplicate_sentences(a):\n",
    "    b_set = set(map(tuple,a))  #need to convert the inner lists to tuples so they are hashable\n",
    "    b = list(map(list,b_set)) #Now convert tuples back into lists (maybe unnecessary?)\n",
    "    return b"
   ]
  },
  {
   "cell_type": "markdown",
   "metadata": {},
   "source": [
    "## Loading word2vec skipgram model"
   ]
  },
  {
   "cell_type": "code",
   "execution_count": 3,
   "metadata": {},
   "outputs": [],
   "source": [
    "repository = \"../../\"\n",
    "with zipfile.ZipFile(repository + \"/67.zip\", \"r\") as archive:\n",
    "    stream = archive.open(\"model.txt\")\n",
    "    model = gensim.models.KeyedVectors.load_word2vec_format(stream, binary=False, unicode_errors='replace')"
   ]
  },
  {
   "cell_type": "code",
   "execution_count": 4,
   "metadata": {},
   "outputs": [
    {
     "name": "stdout",
     "output_type": "stream",
     "text": [
      "picokih: 0.6543\n"
     ]
    }
   ],
   "source": [
    "#testing\n",
    "result = model.similar_by_word(\"legenda\")\n",
    "most_similar_key, similarity = result[0]  \n",
    "print(f\"{most_similar_key}: {similarity:.4f}\")"
   ]
  },
  {
   "cell_type": "markdown",
   "metadata": {},
   "source": [
    "## Loading all sentences"
   ]
  },
  {
   "cell_type": "code",
   "execution_count": null,
   "metadata": {},
   "outputs": [],
   "source": [
    "with open('../ccGigaFida/results/data.json') as json_file:\n",
    "    data = json.load(json_file)\n",
    "with open('../ccGigaFida/results/data_lema.json') as json_file:\n",
    "    data_lema = json.load(json_file)\n",
    "with open('../ccGigaFida/results/data_pos.json') as json_file:\n",
    "    data_len = json.load(json_file)\n",
    "\n",
    "words = np.load(\"../ccGigaFida/words.npy\")\n",
    "words"
   ]
  },
  {
   "cell_type": "code",
   "execution_count": 68,
   "metadata": {},
   "outputs": [],
   "source": [
    "for keyword in ['gol']:\n",
    "    all_sentences=data[keyword][0:1000]\n",
    "    all_sentences_lema=data_lema[keyword][0:1000]\n",
    "    \n",
    "    #Remove duplicate sentences if any\n",
    "    #all_sentences=remove_diplicate_sentences(all_sentences)\n",
    "    #all_sentences_lema=remove_diplicate_sentences(all_sentences_lema)\n",
    "    \n",
    "    all_embeddings=np.zeros((len(all_sentences),100))\n",
    "    \n",
    "    for i in range(len(all_sentences)): #iterate through the sentences for the given keyword\n",
    "        keyword_position = all_sentences_lema[i].index(keyword)\n",
    "        #all_sentences[i].pop(keyword_position)\n",
    "        \n",
    "        centroid=np.zeros(100)\n",
    "        words_added=0\n",
    "        \n",
    "        for word_index, word in enumerate(all_sentences[i]): #iterate through the words in the sentence\n",
    "            try:\n",
    "                if word_index!=keyword_position:\n",
    "                    centroid+=model[word.lower()] \n",
    "                    words_added+=1\n",
    "            except:\n",
    "                ...\n",
    "                \n",
    "        if words_added==0: #there are wierd sentences where only the keyword is the whole sentence\n",
    "            continue\n",
    "            \n",
    "        centroid/=words_added\n",
    "        all_embeddings[i,:]=centroid\n",
    "        \n",
    "    \n",
    "    break #this break means that we terminate on the first word\n",
    "    \n",
    "#~np.all(all_embeddings == 0, axis=1) this checks if there are any only-zero rows meaning that we did not have any word embedding for that sentence"
   ]
  },
  {
   "cell_type": "code",
   "execution_count": 69,
   "metadata": {},
   "outputs": [],
   "source": [
    "distances={}\n",
    "for i in range(all_embeddings.shape[0]):\n",
    "    for j in range(i+1,all_embeddings.shape[0],1):\n",
    "        distances[str(i)+'-'+str(j)] = cos_similarity(all_embeddings[i,:], all_embeddings[j,:])"
   ]
  },
  {
   "cell_type": "markdown",
   "metadata": {},
   "source": [
    "## Analyze worst 50 distances"
   ]
  },
  {
   "cell_type": "code",
   "execution_count": null,
   "metadata": {
    "scrolled": false
   },
   "outputs": [],
   "source": [
    "distances_keys = list(distances.keys())\n",
    "already_were = [] #to je zato ker se stavke ponavljajo in ne zanimajo nas iste kombinacije znova\n",
    "count=0\n",
    "for key in distances_keys[0:100]:\n",
    "    first, second = map(int, key.split('-'))\n",
    "    first_sent, second_sent = ' '.join(all_sentences[first]), ' '.join(all_sentences[second])\n",
    "    \n",
    "    if first_sent+second_sent in already_were:\n",
    "        continue\n",
    "    \n",
    "    count+=1\n",
    "    already_were.append(first_sent+second_sent)\n",
    "    print(first_sent+'\\n'+second_sent)\n",
    "    print('-----')\n",
    "    if count==10:\n",
    "        break"
   ]
  },
  {
   "cell_type": "markdown",
   "metadata": {},
   "source": [
    "## Analyze best 50 distances"
   ]
  },
  {
   "cell_type": "code",
   "execution_count": null,
   "metadata": {
    "scrolled": false
   },
   "outputs": [],
   "source": [
    "distances_keys = list(distances.keys())\n",
    "already_were = [] #to je zato ker se stavke ponavljajo in ne zanimajo nas iste kombinacije znova\n",
    "count=0\n",
    "for key in distances_keys[-1000:]:\n",
    "    first, second = map(int, key.split('-'))\n",
    "    first_sent, second_sent = ' '.join(all_sentences[first]), ' '.join(all_sentences[second])\n",
    "    if first_sent+second_sent in already_were:\n",
    "        continue\n",
    "    \n",
    "    count+=1\n",
    "    already_were.append(first_sent+second_sent)\n",
    "    print(first_sent+'\\n'+second_sent)\n",
    "    print('-----')\n",
    "    if count==10:\n",
    "        break"
   ]
  },
  {
   "cell_type": "markdown",
   "metadata": {},
   "source": [
    "## Construct similarity distance matrix"
   ]
  },
  {
   "cell_type": "code",
   "execution_count": 56,
   "metadata": {},
   "outputs": [],
   "source": [
    "#print(all_embeddings.shape)\n",
    "distance_matrix=(pairwise_distances(all_embeddings,metric=\"cosine\"))\n",
    "similarity_matrix=1-(pairwise_distances(all_embeddings,metric=\"cosine\"))\n",
    "\n",
    "\n",
    "#density plot\n",
    "similarity_matrix_flatten = similarity_matrix.reshape(len(similarity_matrix)**2)\n",
    "density = gaussian_kde(similarity_matrix_flatten)\n",
    "density.covariance_factor = lambda : .5\n",
    "len(similarity_matrix_flatten)\n",
    "plt.plot(similarity_matrix_flatten, density(similarity_matrix_flatten))\n",
    "plt.show()\n"
   ]
  },
  {
   "cell_type": "code",
   "execution_count": 75,
   "metadata": {},
   "outputs": [],
   "source": [
    "best_distances_indices=[]\n",
    "\n",
    "best_scores_indices=[]\n",
    "for i in list(distances.keys()):\n",
    "    first, second = i.split('-')\n",
    "    if distances[i]>0.9:\n",
    "        best_scores_indices.append(first)\n",
    "        best_scores_indices.append(second)\n",
    "\n",
    "\n",
    "best_scores_indices=(np.unique(best_scores_indices))\n",
    "best_scores_indices = best_scores_indices.astype(int)\n",
    "all_embeddings_selected = all_embeddings[best_scores_indices, :]\n",
    "\n",
    "distance_matrix=(pairwise_distances(all_embeddings_selected,metric=\"cosine\"))"
   ]
  },
  {
   "cell_type": "code",
   "execution_count": 55,
   "metadata": {},
   "outputs": [],
   "source": [
    "all_sentences_selected = []\n",
    "for i, in best_scores_indices:\n",
    "    all_sentences_selected.append(all_sentences[i])"
   ]
  },
  {
   "cell_type": "markdown",
   "metadata": {},
   "source": [
    "## Clustering"
   ]
  },
  {
   "cell_type": "code",
   "execution_count": 57,
   "metadata": {
    "scrolled": false
   },
   "outputs": [
    {
     "data": {
      "text/plain": [
       "Counter({0: 291, 1: 427})"
      ]
     },
     "execution_count": 57,
     "metadata": {},
     "output_type": "execute_result"
    }
   ],
   "source": [
    "clusters = AgglomerativeClustering(affinity='precomputed', linkage='complete', n_clusters=2).fit(distance_matrix)\n",
    "Counter(clusters.labels_)"
   ]
  },
  {
   "cell_type": "code",
   "execution_count": 63,
   "metadata": {},
   "outputs": [
    {
     "name": "stdout",
     "output_type": "stream",
     "text": [
      "0 : Naši politični emigranti ki so pribežali v Argentino da so si rešili golo življenje so imeli namreč onstran vse organizacijske dovršenosti onstran in globlje od vseh odlik kvalitetnega javnega dela onstran in globlje pod vsem tem so imeli izvir gibalo in vzrok svojega poslanstva\n",
      "2 : Slečejo ga do golega in ga od glave do peta premažejo z grafitno mastjo to naj bi zmedlo policijske pse\n",
      "3 : Po tem nosu sem jo velikokrat skupil še zlasti na Golem otoku zdaj pa najhuje ker ni več simetričen\n",
      "10 : Antinori pa bo verjetno želel več od golega zagotovila da bo ženska ki nosi v sebi klon zarodek smela splaviti\n",
      "12 : Z enako potezo se je izkazal še v sodnikovem podaljšku ko je najprej Ipavec zgrešil prazen gol nato pa Mejač iz neposredne bližine žoge ni usmeril mimo najboljšega igralca tekme\n",
      "13 : Obenem je Stajić tudi strelec edinega gola za Publikum od tistih igralcev ki jih ima Pocrnjič na voljo\n",
      "14 : Najboljša obramba Angleži so prejeli le en gol proti najboljšemu napadu Brazilci so jih dosegli že 13\n",
      "15 : Če jim še hitro zabijemo gol je dejal na tiskovni konferenci v tretjem nadstropju hotela Marriott sredi Seula ameriški selektor Bruce Arena ki v razmišljanju spominja na zdaj že nekdanjega slovenskega selektorja Srečka Katanca\n",
      "16 : Priznanje za najboljšega strelca lanskega prvenstva je s 16 goli pripadlo Romanu Obilinoviču\n",
      "17 : Italijani ekvadorskega sodnika obtožujejo da jih je oškodoval za zmagoviti gol Damiana Tommasija v podaljšku saj naj bi bil slednji v nedovoljenem položaju kasneje pa naj bi neupravičeno izključil tudi prvega zvezdnika azzurrov Francesca Tottija\n",
      "20 : Očitno imajo težave z zbranostjo saj so že drugič zapored prejeli gol v prvi minuti\n",
      "24 : Toda na začetku zadnjih sedmih minut je Kokra je hitro povedla s tremi goli prednosti in poltretjo minuto pred koncem je bil izid 7:4\n",
      "26 : Dobro vanj so bili vgrajeni enostaven urejevalnik datotek in še preprostejši vrstični urejevalnik golega besedila pa gorila ki je metala banane prek stolpnic to je bilo pa tudi bolj ali manj vse\n",
      "28 : Pomurke nasule ducat golov\n",
      "31 : Pomurke nasule ducat golov\n",
      "32 : Pomurke nasule ducat golov\n",
      "33 : Tudi v drugem polčasu so bili več pri žogi Bolgari a jim je švedski zvezdnik Henrik Larsson v pičli minuti zabil dva gola in že v 58. minuti dokončno odločil zmagovalca\n",
      "40 : Je pa še pred tem ustvaril Okope in bi se potemtakem lahko vkopal pred našim golom da sovražnik do njega ne bi mogel\n",
      "42 : Peljali se bomo po pokrajini ki je bila še nedolgo tega praktično gola neporasla\n",
      "47 : To ne pomeni da bi želela postati vojska bolj demokratična gre za golo bojno učinkovitost\n",
      "49 : Ko so ga zadnjega z golimi rokami izgrebli iz ruševin polomljenega nezavestnega bolj mrtvega kot živega nihče ni videl zanj prihodnosti\n",
      "58 : Toda naleteli so na enakovrednega nasprotnika ki jih je že v svoji dvorani gladko s petimi goli razlike premagal\n",
      "61 : Na 2 0 je povišal Pavlovič za gol pa je bil zaslužen bil tudi Halilovič od katerega se je žoga odbila in spremenila nekoliko smer toliko da je ujela gostujočega vratarja na krivi nogi\n",
      "62 : Gre sicer zgolj za golo formo ampak želim da se tukaj postopa tako kot je v poslovniku mišljeno\n",
      "64 : Gostitelji so imel vso tekmo pobudo in so nekajkrat vodili tudi s 4 goli prednosti\n",
      "71 : Originalna izdaja Brussigovega romana kaže golo moško telo zares le skulpturo vendarle dovolj provokativno da lahko zaslutimo kaj nas čaka pri branju knjige\n",
      "74 : Ti so z golom Mariusa Niculaeja dosegli tudi vodilni gol ob katerem se je že zdelo da je mondial 2002 na Daljnem vzhodu za Slovenijo izgubljen\n",
      "75 : Katančevo četo pa je v finišu do zmage z neverjetnim golom strelec je po tekmi priznal da je želel le kar najbolje podati pred gol popeljal Milan Osterc desno ki si je s svojo mojstrovino na CNN prislužil častni naziv poteze dneva\n",
      "81 : VODNE RASTLINE PRODAJAJO Z GOLIMI KORENINAMI ALI V CVETLIČNIH POSODAH\n",
      "82 : Do sredine zime posadite vrtnice z golimi koreninami str. 151 razen če imate vrt v hladnejših krajih\n",
      "83 : Pripravite tla str. 192 in 142 143 za zgodnje pomladansko sajenje listopadnih dreves z golimi koreninami ki so bila gojena v cvetličnih posodah ali na zimo neobčutljivih listopadnih dreves z golimi koreninami\n",
      "87 : Štirje osumljenci doma naj bi bili iz Mihovcev in Velikega Brebrovnika so fanta v ponedeljkovi vročini davili ga pomakali v reki Muri vlekli po gramozu ga brcali nato pa golega zaklenili v prtljažnik avta\n",
      "88 : Zdaj igra celotna peterica ki je na ledu je poudaril Gary Roberts ki je k zmagi svojega moštva prispeval gol in podajo\n",
      "90 : Pri prvem golu je zaspala celotna ožja obramba drugi gre tudi na rovaš prekrška Žlogarja ob njegovem prvem stiku s tekmeci potem ko je malce prej stopil v igro\n",
      "95 : Ljubljančani ki so imeli dva gola prednosti s prve tekme 4:2 z Dunaferrjem v Tivoliju so prednost tik pred koncem tekme v Dunaujvarosu sicer zapravili 2:4 toda že v drugi minuti podaljška je tokrat najboljši na ledu Gregor Polončič z ostrim strelom z vrha kroga ki označuje buli s topovskim strelom zagotovil Olimpiji uvrstitev v finale s 7:6 v katerem bo branila lanski naslov prvaka\n",
      "100 : V Denverju je prvi strelec lige Joe Sakic upravičil svoj sloves z golom in tremi podajami za Colorado Rob Blake ki je prestopil iz Atlante pa je ob eni podaji dosegel še prvi zadetek za nove delodajalce\n",
      "101 : V Chicagu na sliki Reutersa vrata Jocelyn Thibault je Blackhawks do zmage povedel Eric Daze ki je v desetih tekmah vpisal deset golov in dve podaji\n",
      "102 : V enem od hitrih protinapadov so Celjani po kombinaciji Goršek Hodžar in natančnem strelu Širca dosegli zmagoviti gol\n",
      "103 : GORENJE ADRIA KRKA Kljub izredno slabi igri v prvem polčasu so domačini vseskozi vodili za tri gole\n",
      "104 : Detroit je pred svojimi gledalci nadigral Anaheim v središču pozornosti pa je bil dolgoletni kapetan zmagovalcev Steve Yzerman ki je zabil dva gola skupaj pa že kar 611\n",
      "105 : Čestitam BiH za zasluženo zmago saj je pred golom pokazala več iznajdljivosti\n",
      "107 : V Moptiju v Maliju je z 1:0 1:0 ugnala domačo izbrano vrsto zmagoviti gol pa je v 29. minuti dosegel Alyegbeni\n",
      "109 : Za Korošce je pretekli teden enoinpolletno pogodbo podpisal strelec enega izmed golov Jovan Drobnjak uprava pa pričakuje da bosta s klubom pogodbe podpisala še Jakirović in Možanić\n",
      "110 : Sredi tekme so Koprčani vodili že za 3 gole a so jih borbeni domači igralci ujeli\n",
      "111 : Parižani so nastopili brez poškodovanega Makedonca Petreskega ki ima po zlomu zapestja povprečje 10 golov na tekmo\n",
      "112 : Koliko boljši so bili Blejci potrjuje podatek da so Izraelcem zabili kar tri gole z igralcem manj\n",
      "113 : Tudi v nadaljevanju prve tretjine so Jeseničani marsikaj poskušali a je Olimpija še z dvema zadetkoma pokazala kaj je v hokeju najpomembnejše goli\n",
      "114 : Kadar gre za obračun izenačenih tekmecev potem je bliže zmagi tisti ki bo prvi zabil gol\n",
      "116 : V sredini sanjski predstavi na Highburyju s katero je Inter postal prvo italijansko moštvo ki je kdaj zmagalo 3:0 na enem od angleških mitskih štadionov kronisti so jo razglasili za Interjevo najboljšo vseh časov je Nigerijec prispeval asistenco in gol\n",
      "117 : Z golom v predzadnji minuti so le še potrdili zmago\n",
      "119 : Rokometašice so po najboljši predstavi na igrah s 36:27 visoko slavile rokometaši pa so remizirali 24:24 a zaradi boljše razlike v golih prav tako osvojili prvo mesto v skupini\n",
      "125 : Ko se je Olimpija le povlekla se je začela igra na en gol\n",
      "126 : Prvi smo dosegli gol in bili v prvem polčasu tudi boljši tekmec\n",
      "127 : Pohvaliti moram vse soigralce še posebno pa sta na tekmi z Moldavijo dobro igrala Teo Galič in Erik Bukovac ki sta dala tudi po štiri gole\n",
      "129 : Mariborčanom je uspelo v tretjem delu izkoristiti prednost igralca več izenačili so na 5:5 odtlej pa so gostitelji nenehno ohranjali prednost ki sicer nikdar ni bila večja od dveh golov\n",
      "130 : Toda domači so se le zbrali in odšli na odmor z golom prednosti\n",
      "135 : K pomiritvi tržišča so nekaj pripomogla tudi kitajska zagotovila da je vsako razvrednotenje njihove valute le gola špekulacija\n",
      "139 : 14.00 Nogomet najlepši goli na Eurosportu\n",
      "140 : Gol in bos ne bo nikoli\n",
      "145 : Ljubljančani so nato dosegli drugi gol\n",
      "146 : Dolgonosec ga je z velikimi ušesi neprestano klofutal po golih nogah od časa do časa pa je svoje nezadovoljstvo pokazal s prašnim tuširanjem celotnega tovora\n",
      "149 : Strelci so v povprečju zadeli le 2,61 gola na tekmo lani pa 3,19\n",
      "152 : Dobili smo tri gole toda tri tudi dosegli je pošteno priznal Cuper ki ga je pred še večjo zagato rešil strelsko iznajdljivi rojak Hernan Crespo potem ko je predsednik kluba Massimo Moratti na pot popeljal tudi Alvara Recobo\n",
      "155 : Mitič je odigral 104 prvenstvene tekme in dosegel 3 gole\n",
      "158 : Golo naključje je da je ta prispevek nastajal ko se še ni vedelo da bodo strokovni sodelavci Slovenskega verskega muzeja v Stični dobili letošnje Valvasorjevo priznanje za postavitev stalne razstave Zgodovina krščanstva na Slovenskem\n",
      "159 : Zaključni prizor v katerem Večni vojak v podobi strumnega avstro ogrskega častnika z golo sabljo brezčutno preseka božično drevesce in s tem hipoma razveljavi pravljično podobo posvečenega miru in novega upanja v kateri so se za trenutek povezale in ubrale med seboj usode vojakov treh narodnosti in dveh nasprotujočih si vojska deluje v vsej uprizoritvi najbolj nasilno njegovo sporočilo pa najbolj črnogledo\n",
      "162 : Balkansko moštvo vodi s 15 točkami s sedmih tekem na katerih ni dobila še nobenega gola Španija pa je druga s 13\n",
      "166 : To je bilo najbolj opaziti pri igri z igralcem več ko nismo mogli doseči gola\n",
      "167 : Zaostanek treh golov iz Španije 27:30 pač napoveduje izjemno oster boj tudi danes ob 17.15 takrat se bo tekma začela zato na Krimu niso želeli ničesar prepustiti naključju\n",
      "169 : A je včeraj najboljši pri domačih Robar lepo izza gola zaposlil Peruzzija ki mu ni bilo težko zadeti\n",
      "172 : Seveda pa sem vesel tudi svojih golov\n",
      "173 : Igramo iz tekme v tekmo bolje a z enim golom na tekmi ne moremo pričakovati zmage\n",
      "174 : Z izjemno zbrano igro so brez večjih težav dosegale gole za gol tekmic pa so bile vselej nevarne vse naše igralke s številnimi obrambami pa je svoje dodala skorajda nepremagljiva Jovanovićeva\n",
      "175 : V finišu so malce popustile kar so obupane Črnogorke izkoristile in z delnim izidom 4:0 znižale na tri gole zaostanka\n",
      "176 : V 49. minuti je Gorenc včeraj najboljši na ledu izkoristil prednost dveh igralcev več piko na I pa je postavil Jan z lepim golom v zadnji minuti ko sta imeli obe moštvi v polju le po 4 igralce\n",
      "181 : In to zaradi golega in čistega nagajanja ter starih zamer trdi Zdenko Plankl ki so se posebej zaostrile ob sprejemanju odločitev o gradnji nove čistilne naprave v Vitanju\n",
      "182 : Kranjčani so za končno zmago z 12:3 3:1 4:0 1:0 4:2 prednost nabirali ves čas tekme posebej uspešen pa je bil center Primož Troppan s štirimi goli\n",
      "183 : Še zdaj vidim beograjskega kolego ki mi je sredi delegatskega klepetališča v OZN pomilovalno dejal Ha kar pojdite prej ali slej se boste vrnili goli in bosi\n",
      "184 : Glede na to da je bilo takrat ko naj bi bila ta zamisel dobro delovala brez sodbe pobitih nekaj deset tisoč in razlaščenih nekaj sto tisoč ljudi kmalu za njimi pa na Golem otoku ne ve se koliko zaprtih mučenih in usmrčenih bi morala biti dejanja in dokazi za tezo o dobrem delovanju zelo opazni\n",
      "188 : Po zaostanku z 2:3 je tudi zapravil dve priložnosti z igralcem več in tudi prednost dveh igralcev več ko so v zadnjih trenutkih tekme izpred gola potegnili vratarja Ricka Tabaraccija\n",
      "189 : V Mestnem gledališču Ljubljanskem v predstavi Goli pianist igra Jernejeva mama Maja Šugman seveda pa je v družini še vedno najbolj znan igralec ata Zlatko Šugman\n",
      "198 : Ko se ti prvič zgodi da ne vidiš gola ker stojiš v vrsti za stave pomisliš takole pa ne gre\n",
      "201 : Pomembno bo da tedaj ko bomo imeli igralca manj na ledu ne bomo dobili gola\n",
      "202 : Gol za Slovenijo je tudi tokrat dosegel Semler ki se je najbolje znašel v gneči v kazenskem prostoru in z močnim strelom ugnal madžarskega vratarja\n",
      "203 : NOVA GORICA Čeprav so Novogoričani že pred tekmo vedeli da so si zaradi dobre razlike v golih že priigrali naslov jesenskih prvakov so tekmo vzeli zelo resno\n",
      "206 : Borut Mavrič 6,5 Lani je v šampionski sezoni le na dveh tekmah klonil dvakrat v letošnjem jesenskem delu prvenstva pa je že kar štirikrat prejel po tri gole\n",
      "207 : Jaromir Jagr je dosegel drugi hat trick v letošnji sezoni in seštevek golov povečal na 22 razen tega je pomagal Mariu Lemieuxu in Ronu Francisu doseči okrogli številki\n",
      "208 : Lindros se je zadovoljil z eno podajo gole za tesno zmago Letalcev pa so prispevali Rod Brind'Amour Dainius Zubrus Shjon Podein in Trent Klatt\n",
      "210 : Oblečen sem za ven tesne kavbojke majica pumini copati na golih nogah na desni roki nosim uro na mezincu prstan verižica z obeskom prsi so obrita tudi stegna in roke so gladke dlačic v nosu in ušesih pa tako in tako nimam v zadnjih žepih imam denar in pismo v roki mobilnik in cigarete iz škatlice sem iztaknil štiri cigarete in noter potisnil vžigalnik in dozo žvečilnih\n",
      "211 : Slovenski hokejisti so hrvaškim nasuli 15 golov\n",
      "213 : Tisti jugoslovanski akterji pa ki Broza drrugače poznajo so se znašli na Golem otoku mrknejo naj v molčečnost kamenja\n",
      "215 : Gostiteljem je pripadel le začetek tekme ko so povedli za dva gola preostali del tekme pa je bil v znamenju gostov z Dolenjske\n",
      "216 : Luc Robitaille desno napadalec Detroita je proti Coloradu izenačil in na tretji tekmi dosegel svoj prvi gol v boju z velikim tekmecem\n",
      "217 : Morda bi jih lahko rešil njihov jesenski soigralec Ismet Ekmečić ki je na štartu strelsko ponorel štirje goli v dveh tekmah če ne bi dosegel gola\n",
      "218 : To je golo dejstvo dodaja Valant zato se je država odločila omenjeni delež dati pidom za pokrivanje primanjkljaja\n",
      "220 : Bojevito srečanje ki sta ga s številnimi izključitvami prekinjala sodnika se je nadaljevalo tudi v drugem delu Velenjčani pa so bili ves čas v prednosti najmanj treh golov\n",
      "221 : Za uresničitev cilja imajo velike možnosti saj je tudi Primorje neučinkovito in na zadnjih dveh tekmah proti Domžalam in Mariboru niso zabili gola\n",
      "223 : Pipo je magičen nenadkriljiv voditelj San Rema všeč so mu naravne ženske je v televizijske kamere ki spremljajo množice in prihod popevkarskih zvezd v festivalsko dvorano zatrjevala neznanka razkazovala svoje golo nedvomno nesilikonizirano telo ter brkatemu radovednežu hribovskega videza ponudila svojo dojko\n",
      "224 : Mami in očetu se ni zdelo nič nenavadnega če sta se doma sprehajala gola\n",
      "226 : Prav tako je pohvalen inovativni način Challenge v njem nabiraš točke z dobrim podajanjem streli goli in obrambo ter jih izgubljaš če ga serješ na koncu pa število pik odloča o tem če si izziv opravil za kar dobiš nov štadion\n",
      "227 : Ko so na tribunah že slavili zanesljivo zmago Mariborčanov si je domača obramba dovolila spodrsljaj ki ga je izkoristil Kečan in dosegel častni gol za goste\n",
      "228 : Najboljši igralec in s 23 goli tudi najboljši strelec turnirja je bil Adrian Cretu še drugi Romun s spiska Triglavovih želja\n",
      "229 : Matej Nastran na sliki desno je takole dosegel enega od svojih dveh golov na tekmi s Poljaki\n",
      "233 : Včasih se ti zdi da jih gol sploh ne zanima a ni tako\n",
      "237 : Cimerotič je prišel sam pred romunski gol in ko so vsi pričakovali da bo bravuro kronal z zadetkom je naivno izgubil dvoboj z vratarjem Steleo\n",
      "239 : Bo pač potrebnih na stotine ponovitev da bo prišlo do avtomatizma in bomo dosegli gol je po tekmi povedal slovenski selektor Jani Zavrl\n",
      "242 : Francija je doma izkoristila svojo prednost in prvič osvojila veliko reprezentančno lovoriko Michel Platini eden tistih režiserjev ki so povezovali niti igre na sredini hkrati pa tudi neusmiljeno zabijali gole pa je prvič zablestel na tekmi z jugoslovansko reprezentanco in dosegel vse tri francoske gole 3:2\n",
      "244 : Nizozemci so po zmagi s SZ 2:0 osvojili svoj prvi naslov najboljše selekcije v Evropi van Bastnov gol v 64. minuti za 2:0 pa je bil sploh eden najlepših v vsej nogometni zgodovini\n",
      "245 : Razpoložena strelca Backovič in Zorman sta našo prednost le še večala in v 21. minuti je ta znašala že sedem golov 14:7\n",
      "248 : Napadalec Rudarja Alen Mujanović je z dvema goloma priigral Venjčanom senzacionalno točko proti Publikumu ki je imel celo igralca več\n",
      "249 : Na Danskem smo preizkušali predvsem nekatere naloge v obrambi saj se zavedamo da lahko zmagamo le če prejmemo malo golov največ dva ali tri\n",
      "250 : V primeru neodločenega izida z Avstrijo bo namreč še kako pomembna tudi razlika v golih\n",
      "255 : Uporabljala je metode italijanskega fašizma šovinizem socialno demagogijo in golo nasilje\n",
      "256 : Uvodnih 20 minut na zaloškem ledu je minilo v enakovrednem boju s po enim golom na vsaki strani\n",
      "257 : Potem ste se pogledali v ogledalo in se brez površnika zapetega do vratu sami sebi zazdeli gol golič saj ste postane kombinacije spodaj pod plaščem obdelali že davnega lanskega oktobra\n",
      "258 : Kar bi šlo lahko celo na golo kožo če oziroma ko bo treba\n",
      "259 : S srčno in zagrizeno igro so utrujenim in povsem brezvoljnim Celjanom povzročili veliko preglavic v pravem trilerju pa so v zadnjih treh minutah rednega dela nadoknadili tri gole zaostanka in z dvema zlatima zadetkoma Nejca Hojča izenačili na 33:33\n",
      "264 : Tudi tam tisti goli kamen na katerega vsake toliko časa prileti kak državnik in postavi novo zastavo ne pomeni zgolj simbola za spodbujanje nacionalističnih čustev\n",
      "268 : Olimpija je bila neučinkovita omembe vredna je le prečka Bozga v prvem polčasu in častni gol Ekmečića v zadnjih trenutkih tekme\n",
      "273 : Z zadovoljnimi nasmeški pa nikakor ni mogla skriti navdušenja nad golim moškim ki mu je celo pomagala da se znebi hlač\n",
      "279 : Proti vodilni ekipi španskega prvenstva so zablesteli najbolj prekaljeni celjski mojstri Renato Vugrinec z devetimi goli Sergej Rutenka z osmimi in Edvard Kokšarov s sedmimi ter vratar Dejan Perić čigar obrambe 12 niso bile tako številčne kot ponavadi a je zato španske strele ustavljal v ključnih trenutkih\n",
      "281 : Birsa je darilo pretvoril v zadetek ki so si ga naši zaslužili saj so pred tem že dvakrat zadeli okvir gola Brečko in Birsa\n",
      "284 : Z njegovim novim golom v nadaljevanju so pobudo prevzeli Triglavani ki so minuto in pol pred koncem druge četrtine ušli za dva gola 2:4 3:5\n",
      "285 : Na brv stopi velik obrit in gol človek in drobna ženska ob njem pridiga o modi in da morajo telo žrtvovati za energijo ki bo v kozmos potisnila vesoljsko ladjo\n",
      "286 : Oba gola za Newyorčane je zabil Poljak Mariuzs Czerkawski ki se ga spomnimo z letošnjega svetovnega prvenstva skupine B ki je bilo aprila pri nas\n",
      "287 : Ne gre namreč samo za gole številke temveč za podatke ki jim morajo posvetiti vso pozornost tudi najbolj odgovorni v šolski in športni sferi\n",
      "289 : V zadnji minuti so naši sosedje zamudili izjemni priložnosti za gol vendar se je izkazal vratar Slovenije Dermastja\n",
      "290 : Ob zdajšnjih počitnicah našega nogometa se mi poraja pomislek ali je razlika v golih pravično merilo za uvrščanje klubov v tabele zaporedja\n",
      "292 : Po zdaj veljavnem uvrščanju ima v tabeli prednost klub A ker je dal več golov kot klub B. Vendar gre pri klubu A za zelo tesno medtem ko pri klubu B za izrazito prednost razmerja sil kar bi ga moralo uvrstiti pred klub A. To pa govori v prid upoštevanju razmerja in ne razlike golov kakor velja zdaj\n",
      "295 : Potem ko se je petminutni podaljšek končal brez golov je iz kazenskega strela izmed desetih izvajalcev spravil plošček v mrežo le Salfi in domačim prinesel zmago\n",
      "296 : A se zavedam da lahko prejmemo tudi pet golov\n",
      "297 : V drugi številki revije Trač so bile 6. maja 1996 objavljene fotografije na katerih je znana manekenka pomanjkljivo oblečena ali pa gola ne da bi jo vprašali za dovoljenje\n",
      "308 : Ne le to da je izgubil v zadnjih sekundah tudi gol novinca v bundesligi Brazilca Mineira je bil mojstrovina\n",
      "310 : Remi brez golov proti povprečni ekipi Betisa vratnica Ruuda van Nistelrooya in izključitev Davida Beckhama v zadnji minuti tekme je vse kar so iztržili varovanci Fabia Capella\n",
      "321 : Z japonskim klubskim prvakom Nagojo je izgubil z 21:28 z reprezentanco Bosne in Hercegovine s 13:24 pred Tunizijo pa je klonil za le dva gola 18:20\n",
      "324 : Gospod Valt Jurečič vaše pisanje v Dolenjskem listu 1. septembra in Delu 3.9.1994 o dolenjskem posploševanju v zvezi z begunci po drugi svetovni vojni ter omenjanje v isti sapi Nemcev Američanov Indijancev in Golega otoka je navadno sprenevedanje in zavajanje javnosti\n",
      "329 : Švedi in Finci se brez svojih prenosnih telefonov vsaj po lastnih izjavah počutijo tako gole kot da bi bili v savni\n",
      "334 : Žargi je govoril celo o tehničnem golu katerega lahko sodnik prisodi če igralca nasprotnik nepravilno ovira ko je sam pred praznim golom\n",
      "338 : Pričakovano toda težko priborjeno zmago je Kranjčanom zagotovil kapetan Krištof Štromajer z zlatim golom\n",
      "341 : Triindvajsetletni napadalec je na 16 tekmah letošnje sezone zabil sedem golov\n",
      "344 : Aris je zmagal s 4:2 gostitelji so vse gole dosegli v prvem polčasu\n",
      "346 : Streli na gol 2\n",
      "349 : V golu bo nedvomno Samir Handanovič dobil prednost pred svojim starejšim bratrancem Jasminom Handanovičem\n",
      "351 : Že v 27. sekundi tekme je dosegel prvi gol nato pa je v prvem delu v 5. minuti s podajo Jussiju Jokinenu pomagal pri izenačenju na 2:2\n",
      "354 : Streli na gol 1\n",
      "355 : jan Ivo Jan je bil z goloma in podajo junak zmage Krefelda v Kölnu\n",
      "358 : Mariborska Lukna se je tokrat napolnila z zadetki saj so graščaki iz Nazarij uprizorili pravi gol show\n",
      "364 : Mreža se je zatresla drugi gol v mreži moštva iz Timisoare pa je prinesel nov polet rumeno modrim ki so iskali pot do izenačenja a Janković Kirm Ljubijankić in druščina niso uspeli v svojih namerah\n",
      "366 : Navijači Ankarana so po Beštjakovem golu v 39. minuti že videli točko v svojem žepu a so tik za tem zadeli gostje ki so se po dolgem času vnovič veselili treh točk\n",
      "372 : Ključ za preobrat pa je bil ta da smo v obrambi bolj skakale na njihove zunanje igralke je komentar kapetanke Tanje Oder ki v tej tekmi kljub šestim golom ni bila ravno pri strelu\n",
      "378 : Slednji je na gostovanju pri Chrudimu v soboto iztržil točko vendar ni sodeloval pri nobenem od golov\n",
      "382 : Ne vemo kako bosta na ekipo delovala premor in depresija v slovenskem futsalu verjamem pa da so ostali fantje željni igranja in zabijanja golov v nasprotnikovo mrežo\n",
      "390 : Hitro smo si zagotovili dva gola prednosti žal nato nismo odigrali kot bi morali\n",
      "395 : Lepo bi bilo da bi Lavrič s kakšnim golom strelsko formo potrdil že pred derbijem z bržčas odločilnim obračunom s Kaiserslauternom\n",
      "396 : Toda v nedeljo bom znova poleg najboljše bi bilo da bi se vrnil s kakšnim golom seveda pa so najpomembnejše tri točke je zaključil Trboveljčan ki bo v Slovenijo pripotoval v ponedeljek okoli poldneva morda bo reprezentančni zbor zamudil za kakšne pol ure\n",
      "398 : Pokopal nas je trenutek nezbranosti gol smo prejeli dobro minuto pred koncem do takrat pa smo igrali zelo dobro\n",
      "400 : Na igrišču izžareva borbenost in učinkovitost kar razkriva tudi statistika golov saj je po polovici sezone mrežo zatresel kar desetkrat\n",
      "408 : Drew Stafford Thomas Vanek s svojim drugim golom na tekmi ter Daniel Briere in Jason Pominville so v devetih minutah zadeli za spremembo izida od 1:4 do 5:4\n",
      "409 : Založani so uspeli izkoristiti samo prvo Češnjakova granata je bila usodna za Mohoriča vmes pa bi Hebar moral bolje zadeti plošček ki bi ob praktično praznem golu v tem primeru gotovo končal v mreži\n",
      "416 : Primorje je do točke prišlo z zelo odgovorno in disciplinirano igro zadeli so iz edinega strela proti našemu golu in osvojili točko\n",
      "420 : Nekaj več pripomb na vodenje tekme so imeli domači privrženci za mnoge je bilo nerazumljivo da je šel strelec prvega gola za Belo krajino Kristjan Penica predčasno iz igre\n",
      "421 : Dejstvo je da izkušeni igralci in mojstri okroglega usnja v domači zvezni vrsti niso sposobni v najvišjem ritmu odigrali vse tekme kar je tudi posledično pripeljalo do pritiska pred domačim golom v zadnjih minutah in izenačenja\n",
      "425 : Začeli smo dobro saj smo hitro dosegli gol in si pripravili še nekaj priložnosti\n",
      "427 : Muraši so jeseni šestkrat ostali praznih rok na štirih tekmah v nadaljevanju prvenstva še niso okusili grenkobe poraza prav tako niso dobili gola\n",
      "432 : Želeli so še Ljubijankič je zapečatil tekmo s tretjim zadetkom s sijajnim strelom z glavo za še tretji imeniten gol domžalske posadke kar je zadovoljilo tudi profesorja Stojanoviča Po treh neodločenih izidih na tekmah kjer smo zgrešili nemogoče smo si želeli treh točk\n",
      "439 : Zvezde iz Dallasa so Vancouver z nogometnim izidom 1:0 premagale šele po podaljšku edini gol je v sedmi minuti dodatnega dela igre dosegel Brenden Morrow\n",
      "440 : Koprski trener Igor Belofastov bo zaradi obolelih vratarjev znova v golu s klopi pa bo ekipo vodil njegov pomočnik Dušan Lončarević\n",
      "441 : Po zadetkih je bil najboljši Tomaž Razingar ki je nasprotnikovim čuvajem mreže zabil šest golov\n",
      "442 : Po golu je Koprčanom zmanjkalo časa za kakšen nevarnejši napad in gostje so se zasluženo veselili treh točk kanarčki pa se lahko tolažijo zgolj z brezplodno terensko premočjo\n",
      "443 : Edini gol za Slovenijo je dosegel Jure Bračko danes se bodo izbranci selektorja Damirja Roba v Tolminu pomerili z Gruzijo začetek tekme bo ob 17. uri\n",
      "444 : Pri zadevanju odprtine v golu so bili otroci tokrat presenetljivo natančni\n",
      "447 : Po drugi tretjini je zbornaja komanda vodila s 4:1 zadela sta Gončar in Morozov a so se Finci v tretji tretjini prebudili in z goloma Hentunena in Lehtinena približali na zadetek razlike\n",
      "448 : Vse to mu je prineslo tudi nagrado veliko število golov v mreži nasprotnih vratarjev skupaj s pokalnim tekmovanjem 15 pa čeprav po poklicu ni napadalec\n",
      "449 : Dobiti 34 golov ekipi katere odlika naj bi bila obramba gotovo ni v ponos\n",
      "452 : Začetno obrambo 5 1 so zamenjali s 3 2 1 in ob uspešnih obrambah Blaža Vončine 8 obramb v prvem polčasu in zadetkih Damirja Doborca sedem v prvih 30 minutah so imeli tudi vodstvo s tremi goli nazadnje v 28. minuti ko je bilo 18:15\n",
      "454 : Kljub vsemu namreč ne smemo prezreti dejstva da bodo izbranci trenerja Borivoja Lučića lovili zmago s tremi goli razlike če bi se mreži morda zatresli več kot šestkrat bi bila dovolj tudi zmaga z dvema zadetkoma prednosti\n",
      "459 : Kronično neučinkovitost državnih prvakov trajala je celih 481 minut je v zadnjih trenutkih polčasa ko je sicer dišalo po prepovedanem položaju s šestim golom v sezoni končal Duro\n",
      "460 : Bilo je pomembno čim hitreje doseči prvi gol in jim pokazati zakaj smo na ledu\n",
      "462 : 09.00 Nogomet Najlepši goli\n",
      "463 : Brazilec Giovane Elber je dosegel že šesti gol v letošnji ligi prvakov\n",
      "466 : Šele takrat pa ko odvržeš vse to znanje in stopiš sam gol na oder takrat so vse te metode trening znanje v tvoji službi\n",
      "468 : Jaz si jo pravzaprav želim čerpav ko bo padel prvi gol se bom zavlekel domov in jokal vso noč\n",
      "469 : Sodnik Dremelj je bil tako zmeden da je gol pripisal kar Orsu in ne Kangyalu\n",
      "470 : Spremeniti slovenski narodni značaj je bilo mogoče zapisati v program Osvobodilne fronte kakor je vanj mogoče zapisati vrsto obljub katerih izpolnitve nihče ne bo mogel kontrolirati saj bi ga že sama pomisel na kaj takega utegnila pripeljati na Goli otok kaj šele dejanski poskus izvedbe\n",
      "471 : Brazilec Giovane Elber je Armini Bielfeld zabil štiri gole po dva v vsakem polčasu prvi gol v Bayernovem dresu pa je dal tudi najboljši nemški nogometaš Michael Ballack\n",
      "472 : V 5. minuti prve priložnosti po podaji Plaznika ni izkoristil Komar v 22. minuti pa je Handžič podal žogo pred gol Korotana kjer se je znašel Žeželj vendar je Kuzma njegov strel s težavo ubranil\n",
      "473 : Medtem ko se je strelec prvega Koprovega gola Romano Obilinović veselil so Ljubljančani v svojih vratih razpravljali o tem kdo je glavni krivec\n",
      "476 : Pritisk javnosti in klubskega vodstva smo zdržali igra priložnosti in goli pa vlivajo optimizem tudi za naprej\n",
      "479 : Za nas je najpomembneje da dosežemo gol več od tekmeca\n",
      "480 : Nogometni klub Croatia za katerim stoji predsednik Tuđman je postal prvak šele dobesedno v zadnji minuti ko je sodnik razveljavil regularno dosežen gol ekipi Rijeke\n",
      "481 : Prvi gol za Celjane je po podaji Roberta Korena in napaki ožje Murine obrambe dosegel Andrej Kvas\n",
      "483 : Vrhunec je bil gol s peto v zadnjem krogu proti Domžalam Končno sem bil zdrav\n",
      "485 : V vsakem primeru bi morali doseči gol a dokler ga nismo prejeli ni nič kazalo na to da ga bomo\n",
      "486 : Gostitelji so enkrat ustrelili proti golu in zmagali je po tekmi vzdihnil slovenski reprezentančni napadalec\n",
      "487 : Dosegli bi lahko vsaj pet golov toda žoga preprosto ni hotela v mrežo\n",
      "492 : Velenjčani so v Kidričevem dosegli tri gole\n",
      "495 : Takrat smo si zgroženi ogledali dogodek in se spraševali kam vodi zgodba žensk ki se spopadejo za golo eksistenco\n",
      "496 : Željam po avtogramih na mikice fotke in golo kožo se je komajda streglo\n",
      "500 : Zelo zanimiv je bil prekmurski derbi ki po tradiciji privabi veliko gledalcev kateri so videli zanimivo tekmo in štiri gole\n",
      "501 : Na ostalih treh tekmah ni bilo golov\n",
      "502 : Sam pravi da je takrat odigral tekmo svojega življenja ko je na štadionu Poljud v Splitu nogometni reprezentanci Hrvaške zabil tri gole in Slovencem priigral prvi remi v zgodovini sosedskih obračunov\n",
      "503 : Tako pa sedaj vsi opozarjajo na tiste moje tri gole ki sem jih Hrvatom zabil v Splitu vsi bi radi slišali kaj na to temo\n",
      "504 : Prednost je v naših rokah paziti pa moramo da nam ne bodo še enkrat tako zgodaj v tekmi zabili gol\n",
      "505 : Seveda pa ima še večje načrte Milan Osterc ki je na štartu ostal brez gola potem ko je lani na istem prizorišču Omanu zabil kar štiri\n",
      "506 : V 55. minuti sta Mahič in Rastoder preigrala naklansko obrambo in slednji je zabil gol\n",
      "514 : Kmalu so Nigerijci sicer izenačili toda na veliko žalost Španije in seveda veselje Paragvaja je Benitez s prelepim golom v 2. polčasu Paragvajce popeljal v osmino finala\n",
      "515 : V nadaljevanju se je po zaslugi Hrasteta in Kodriča razigrala tudi Mogota in se približala na vsega gol zaostanka\n",
      "516 : Davor Šuker hrvaški rezervist pri madridskem Realu si je z golom in igro že prislužil mesto med prvimi zvezdniki Mondiala pred prihodom v Pariz pa je izjavil Francozi so res močnejši kot Nemci toda še enkrat vam povem da tudi to ne bo igra Davida z Goljatom\n",
      "526 : Na golem praznem odru se po začetni pantomimi projicirani na prosojen horizont v maniri senčnega gledališča po karikirani burleskno pretirani uverturi ki se predvsem poigrava s projekcijo in imamo občutek da vse skupaj gledamo skozi precej okajeno in temu primerno nejasno in migotavo optiko samega Sganarela ki se mu svet vrti okoli pijače in malo tudi okoli žene se potem odvija ta zakonski komplot seveda ne manjka tipično molièrovskih zbadljivk na medicino in njene postopke latovščine kot karikature njenega žargona spodletelih prisilni porok preoblačenja in srečnega konca\n",
      "527 : Lendava Zaradi gola prejetega v sodnikovem podaljšku je Nafta po porazu v Kopru s 3:1 zdrsnila za dve mesti niže in bila ob koncu 8\n",
      "529 : Barceloni tako ni ponagalo 5 golov v Tarragoni tretji kandidat za naslov v hitchkockovski končnici DP Sevilla pa je bil praktično brez možnosti\n",
      "530 : Vlado Badžim trener Kopra Prepoceni smo dobili oba gola toda za nas je pomembnejša sredina tekma proti Celju v pokalu\n",
      "531 : Klemen Lavrič 5,5 V klubih v povprečju zabija gol na vsaki drugi tekmi v reprezentanci vsako peto\n",
      "534 : V drugem delu Prevent ni nikoli vodil po golu Aljoše Štefaniča za 19:18 pa Korošci niso več prišli niti do izenačenja\n",
      "543 : Že v uvodnih minutah so domači z agresivno igro v obrambi in hitro v napadu vsilili svoj ritem igre ter si v 19. minuti priborili prednost 7 golov 12:5\n",
      "549 : Še ne dolgo tega so albanski uporniki do golega slekli več tujih televizijskih in novinaskih ekip nekatere usmrtitve ki so jih zagrešili pa tudi ne govorijo ravno najlepše o tej še vedno podtalni vojski kosovskih Albancev\n",
      "552 : Ljubljančan ki je dobro igro v Šenčurju kronal tudi z golom je takole ubesedil svoje misli Upam na zmago in da bomo pravi\n",
      "554 : Backovič je za svoje moštvo dosegel tri gole pri Flensburgu je bil spet najbolj učinkovit Danec Stryger 12 3 Igor Kos nekdanji igralce Gold Cluba je igral celo tekmo in dosegel tri gole\n",
      "555 : Magdeburg je na gostovanju pri Düsseldorfu izgubil točko saj je še v 53. minuti vodil s tremi zadetki razlike naš Renato Vugrinec pa je dosegel štiri gole\n",
      "556 : ostojic gorinsek Želja da bi prvi dosegli gol se je po zaslugi Vladimirja Ostojiča št. 4 Ajdovcem uresničila že v 4. minuti\n",
      "562 : Klemen Lavrič je dosegel svoj prvi gol v nemški prvoligaški druščini\n",
      "564 : Po poročanju španskega tiska je vodstvo kluba naročilo svojim odvetnikom naj preverijo možnosti da za zeleno mizo dosežejo ponovitev tekme ker je bil gol dosežen po predhodni sodniški napaki\n",
      "565 : Po mnenju Reala je sodnik piskal preden je Jarque dosegel odločilni gol z glavo\n",
      "567 : Gorenje je sicer povedlo s 6:4 a nato so Škofjeločani izenačili in v igri gol za gol dobili prvi polčas\n",
      "568 : Ribničanom je sicer uspelo zmanjšati na 23:20 a z zadetki Kukavice so Novomeščani spet prišli do petih golov prednosti 30:25 kar je ob koncu zadostovalo za prvo zmago v novi sezoni\n",
      "578 : Gol se je v taki igri ne glede na Stojanovičev strah preprosto moral zgoditi\n",
      "579 : Arsenal je dobil samo dva gola na petih tekmah odkar se je vrnil Campbell ki je na prvi tekmi po poškodbi proti Evertonu zabil tudi dva gola\n",
      "582 : Proti Meranu je dosegel dva gola gotovo pa je sposoben več\n",
      "585 : Doma je z 28:26 13:9 potem ko je ves čas nadzirala potek rezultata premagala Metz na prvi tekmi je bilo 30:30 Iličeva pa je dosegla šest golov štiri s sedmih metrov\n",
      "599 : Brazilec je sicer pred poškodbo na srečanju ki so ga s 3:0 dobili Kraljevi dosegel dva gola usodna pa je bila zadnja minuta tekme ko se je zaletel z Luisom Pereo ki je ob trčenju zabil tudi avtogol\n",
      "600 : Španci bodo skušali zabiti gol ki bi bil stoti v mreži Londončanov v evropskih pokalih toda to ne bo lahko saj so na zadnjih štirih tekmah lige prvakov dobili samo enega toda tudi zabili so samo enega\n",
      "608 : V povratnem sporočilu boste seznanjeni z izborom igralcev treh najlepših golov nato pošljite sms s ključno besedo EKIPA GOL in črko od A do C za izbrani gol na primer EKIPA GOL A\n",
      "610 : Gavču se je znova izkazal za zlatega jokerja saj je po krasni podaji Juana Verona še pred odmorom dosegel odločilni zadetek in vztraja pri izjemnem povprečju kajti za svojih pet golov je skupno porabil manj kot 300 minut\n",
      "613 : Glasovanje za najlepši gol in najboljšega igralca\n",
      "617 : Toda njihov odziv je bilo ravno nasproten saj so zagospodarili na igrišču dosegli gol približka in nizali priložnosti med katerimi je najlepšo ob koncu prvega dela zapravil Djuranovič\n",
      "618 : Pravega organizatorja igre ni bilo več saj je imel Stevanovič posebnega čuvaja v Kelharju ki je edino napako napravil takrat ko je domžalski zvezdnik dosegel gol\n",
      "620 : Poleg tega se je Ottawi prvič zgodilo da je imela v svoji vrsti kar dva hokejista ki sta dosegla štiri gole deset zadetkov pa je prav tako rekord sezone Senatorjev\n",
      "624 : Da najmanj toliko vsaj za obe tekmi z Nizozemsko se je nasmehnil Burgič strelec treh golov v dresu mlade reprezentance medtem ko jih je Birsa dosegel že pet in je najboljši strelec zdajšnje mlade reprezentančne generacije\n",
      "627 : Nekatere agencije so sicer poročale da je bil Dare tudi strelec prvega gola vendar to ne drži\n",
      "629 : Dejstvo da je zmagoviti gol s peto zabil Henry katerega mati prihaja prav iz Martinika oče pa iz sosednjega otoka Guadeloupa je navdušilo več kot 16.000 navijačev ki so do zadnjega kotička napolnili štadion Fort de France\n",
      "633 : Terim je dejal da bo njegovo moštvo skušalo na tekmi v Carigradu čim prej zabiti prvi gol 2:0 je lepa prednost toda morda za njih v Carigradu ne dovolj visoka\n",
      "634 : Avstralci so tekmo pred razprodanimi tribunami olimpijskega štadiona začeli živčno in so imeli srečo da niso dobili gola ko so predstavniki Južne Amerike napadli da bi že v otvoritvi tekme rešili vprašanje končnega zmagovalca\n",
      "635 : Napadalec Li Dong guk je zabil izjemen drugi gol po samostojni akciji v 65. minuti\n",
      "636 : SČG je v napadu pokazala bolj malo tako da sta nekdanji napadalec Chelseaja Mateja Kežman in Savo Milošević ob odmoru ostala v slačilnici Južna Koreja pa bi v drugem delu kaj lahko zabila še kakšen gol vendar sta nekaj priložnosti zapravila Park Ji sung in Ča Du ri\n",
      "638 : Najpreprostejši recept kako jih ustaviti je da daš gol kar pa seveda ni tako enostavno\n",
      "639 : Morda bo o tistem kar sta obe tekmi naredili za podobo slovenskega nogometa lahko razmišljal pozneje toda za zdaj njegove misli ostajajo le pri golem krutem dejstvu končnem izidu tekme v Heerenveenu\n",
      "641 : Chelseajev napadalec Didier Drogba je pokazal svojo pripravljenost z izjemnim golom za Slonokoščeno obalo ob remiju 1:1 z Italijo medtem ko bo Frank Lampard izenačil rekord premier lige s 159. zaporednimi nastopi v premier ligi ki ga ima zaenkrat vratar David James\n",
      "642 : S cigarete sem otresel pepel nespretno in premočno in na rjuho mi je padla žerjavica in še preden sem jo z golimi prsti pobral da bi jo vrgel v pepelnik in bi potlej tam ugasnila sama ne da bi kaj osmodila sem videl kako se po rjuhi začenja širiti žareče obrobljena odprtina\n",
      "644 : Kako le ko pa smo pokazali že skoraj vse od globokih hrbtnih izrezov ki razkrivajo del zadnjice do golih trebuhov ali prosojnih tkanin ki natančno razkrivajo anatomijo ženskega telesa\n",
      "646 : Malaga je vodila povsem zasluženo z goloma Kizita Musampe ki je streljal z desetih metrov v 10. minuti in Delyja Valdesa ki je tik pred iztekom prvega polčasa streljal še od bližje potem ko se je žoga že prej odbila od vratnice\n",
      "647 : Skoraj golo telo pokrito z nekaj cunjicami in obuto v preproste natikače to\n",
      "648 : V letošnji ligi prvoligašev sem zadel devetnajest krat seveda si želim še več zadetkov in več priložnosti za zadeti gol seveda je nogomet predvsem timsko delo\n",
      "649 : Dvaindavjsetletni nogometaš Domžal na vsaki tekmi kjer igra poskrbi za vsaj en gol\n",
      "650 : Skoraj golo telo pokrito z nekaj cunjicami in obuto v preproste natikače to\n",
      "651 : znani skupaj lahko daš Kate Moss tudi ven sicer pa jo mogoče reži pri hlačah da se ne vidi gole kože\n",
      "652 : Velenje Rudar CMC Publikum Celjani imajo slabo obrambo tako da lahko pričakujejo gol ali dva v lastni mreži toda tako dober napad da jih lahko dosežejo pet\n",
      "655 : Njeni člani ki verjamejo v drugačen model ekonomskega razvoja v takšnega v katerem imajo investicije v varstvo okolja družbeni napredek moralno neoporečno trgovino prednost pred golim dobičkom so zadovoljno ugotavljali da je banka zelo napredovala\n",
      "656 : Umazane in zmečkane rjuhe in gola vzmetnica ki so pričale o tem da so eno od gostij očitno presenetile njene reči oziroma da so bile močnejše od njene zaščite\n",
      "657 : Na podiju kjer so nekoč otroške telovadke zbujali le ganotje oči zdaj poželjivo spremljajo Uzbekinjo Alino Kabajevo na zgornji fotografiji svetovno zvezdo ritmične gimnastike predvsem pa Svetlano Horkino rusko telovadko katere gole slike v Playboyu niso nič manj slavne kakor trojni salto mortale ki ga je izvedla v Atlanti\n",
      "659 : Strogo glasbeno pa je zvočnemu vtisu instrumentalne plati kljub vsej prepoznavnosti manjkala notranja dinamika glasbene iskrivnosti torej tista dražljivost zvočnega bogastva ko poslušalca prevzame in prežame goli učinek zvokov\n",
      "660 : Včeraj je Gorza Švicarjem zabil prvi gol\n",
      "661 : Potem ko je domača reprezentanca v Podgorici po golih Mijatovića iz najstrožje kazni in Lazetića povedla z 2:0 je Azerbajdžancem prvo točko v tem kvalifikacijskem ciklusu z dvema goloma zagotovil Gurbanov\n",
      "665 : Vse čestitke fantom ki so se v imenu rdeče rumenih podili za žogo in zabijali gole\n",
      "666 : Nekaj malega sicer vem a to da igralci tekajo za žogo in streljajo na gol ni dovolj\n",
      "669 : Tri minute pred začetkom žreba so dosegli gol ki jih je odpeljal v nadaljnje tekmovanje povrh vsega se bodo zdaj pomerili s Stuttgartom je bil eden od številnih zanimivih komentarjev ki jih je bilo mogoče slišati med ljubitelji nogometa na sončni strani Alp\n",
      "670 : Rožnik naenkrat ni bil več rožnaten kajti hrast vitki dolgin gol stoji pred menoj z obleko na tleh je stresno ugotovila\n",
      "673 : No potem je Mura na naslednji tekmi prejela štiri gole\n",
      "674 : Zagovarja namreč pogled na bolj goli seks in pokaže da mnoge prepovedi ki tvorijo konvencionalno spolno moralo ne zdržijo kritičnega pretresa\n",
      "677 : Strelec zmagovitega gola je bil Alen Mujanovič ki je ubil dve muhi na en mah zrežiral je prvorazredno senzacijo sebe pa s 13. golom porinil na vrh najboljših strelcev 1\n",
      "679 : Mi moramo ne glede na vse zaigrati ostro in agresivno pravi slovenski selektor in dodaja Idealno bi bilo da bi imel že v napadu tekaško sposobne igralce da bi s presingom začeli na polovici Norvežanov in jih lovili že pred njihovim golom\n",
      "680 : Dokazali smo da nam lahko uspe tudi na velikem odru je po tekmi žarel od navdušenja Alan Smith 20 letni napadalec Leedsa ki je z golom deset minut pred koncem potopil rimsko barko\n",
      "681 : Razočaran sem predvsem nad tem kako smo dobili prvi gol je bil po tekmi malce razočaran Arsene Wenger trener Arsenala ki je izgubil tako rekoč dobljeno tekmo\n",
      "682 : Ko nastopi skrivnostni Pat in nas sooči z golo resnico o življenju ljubezni in spolnih izjavah se svet začne vrteti okrog dvospolnosti\n",
      "683 : Pravijo da branjenje svojega gola in tesno pokrivanje nasprotnikovih zvezdnikov ni način s katerim bi se smelo zmagovati\n",
      "685 : Gola koža je lepo dopolnilo dobremu glasu\n",
      "686 : Gola koža je lepo dopolnilo dobremu glasu\n",
      "687 : Fleha Gola muca\n",
      "688 : Fleha Gola muca\n",
      "689 : Šestindvajsetletna Christina v reviji ponosno razkazuje svoj trebuh na nekaterih fotografijah je čisto gola in si prsi zakriva z roko na naslovnici pa je odeta zgolj v kratko usnjeno jakno\n",
      "690 : Dvainpetdesetletna Janice ki je ob tej priložnosti vendarle nosila spodnje perilo si je intimne dele telesa prekrila s sloganom Raje gola kot v krznu\n",
      "692 : Nam ni pozirala gola ampak smo jo s pomočjo prijaznih deklet iz ljubljanskega Emporiuma preobrazili v pravo zapeljivko\n",
      "693 : Tudi goli zadnjici golobčkov pričata o tem da sta se želela le malce posončiti\n",
      "695 : Če se komu modrijanova raztresenost glede oblačenja zdi le nekoliko preveč pohujšljiva naj pripomnimo da Grkov golota ni posebno motila navsezadnje so tudi vsi atleti na antičnih olimpiadah nastopali goli\n",
      "697 : Ko so plavi zabili peti gol sem od same sreče in vzemirjenja brcnila v radiator in si zvila gleženj\n",
      "698 : V tako rekoč vsej sezoni je drugi najboljši Slovenec zabil 15 golov tretjeligaški Ciprčan pa v eni tekmi 16\n",
      "699 : Ne samo rezultata tudi goli so nam ostali živo v spominu\n",
      "700 : Strahovit požar ki je 22. aprila ponoči uničil gasilski dom v Radencih je vzel dom tudi družini Ivanič Ivaničevi so pomagali da ogenj ni zajel drugih stanovanj sami pa so ostali goli in bosi Zdaj se 35 letni Boris 34 letna Zdenka in 13 letna hčerka Anja stiskajo pri sorodnikih in čakajo da bodo obljube dane usodne noči izpolnjene\n",
      "701 : Včasih jo je ujel in slačil jo lizal po prsih in spolovilu se s svojim udom drgnil po njenem golem životu tudi po dvakrat na dan\n",
      "702 : Devetnajstletna Lucija Gregorc iz Ajdovščine se ni uklonila grožnjam 38 letnega ugrabitelja Stephena Casiraghija zato jo je vklenil z verigami vrgel na zadnje sedeže avta pokril z odejo in odpeljal proti Ljubljani Grozil ji je da bo z njo naredil kar z dekleti dela Silvo Plut V gozdu jo je priklenil k drevesu ko je odšel po hrano mu je pogumno dekle ušlo Na zaslišanju pri preiskovalnem sodniku je bil kriminalec gol zavit le v odejo ni se zagovarjal ker je bil vklenjen Odrejen pripor\n",
      "710 : Junak zmage Genoe je postal odpisani napadalec Milana Marco Borriello ki je letos zabil že 10 golov\n",
      "717 : Sploh prvi polčas so odigrali odlično in tudi dobršen del drugega a če žoge ne spraviš v gol seveda ne moreš zmagati\n"
     ]
    }
   ],
   "source": [
    "for i,label in enumerate(clusters.labels_):\n",
    "    if label==0:\n",
    "        print(i,':', ' '.join(all_sentences_selected[i]))"
   ]
  },
  {
   "cell_type": "code",
   "execution_count": 27,
   "metadata": {},
   "outputs": [
    {
     "name": "stderr",
     "output_type": "stream",
     "text": [
      "C:\\Users\\marko\\anaconda3\\envs\\ids-clone\\lib\\site-packages\\sklearn\\cluster\\_spectral.py:484: UserWarning: The spectral clustering API has changed. ``fit``now constructs an affinity matrix from data. To use a custom affinity matrix, set ``affinity=precomputed``.\n",
      "  warnings.warn(\"The spectral clustering API has changed. ``fit``\"\n"
     ]
    },
    {
     "data": {
      "text/plain": [
       "Counter({0: 998, 1: 2})"
      ]
     },
     "execution_count": 27,
     "metadata": {},
     "output_type": "execute_result"
    }
   ],
   "source": [
    "spectral = SpectralClustering(2).fit_predict(distance_matrix)\n",
    "Counter(spectral)"
   ]
  },
  {
   "cell_type": "code",
   "execution_count": 31,
   "metadata": {},
   "outputs": [
    {
     "name": "stdout",
     "output_type": "stream",
     "text": [
      "Estimated no. of clusters: 2\n",
      "Estimated no. of noise points: 3\n",
      "Counter({0: 997, -1: 3})\n"
     ]
    }
   ],
   "source": [
    "dbscan = DBSCAN(metric='cosine', eps=0.4, min_samples=3).fit(all_embeddings)  # you can change these parameters, given just for example \n",
    "labels = dbscan.labels_ # where X - is your matrix, where each row corresponds to one document (line) from the docs, you need to cluster \n",
    "#cluster_labels\n",
    "no_clusters = len(np.unique(labels) )\n",
    "no_noise = np.sum(np.array(labels) == -1, axis=0)\n",
    "\n",
    "print('Estimated no. of clusters: %d' % no_clusters)\n",
    "print('Estimated no. of noise points: %d' % no_noise)\n",
    "\n",
    "print(Counter(labels))\n",
    "#all_sentences[np.where(labels == 1)]\n",
    "for i,label in enumerate(labels):\n",
    "    if label==1:\n",
    "        print(all_sentences[i])"
   ]
  }
 ],
 "metadata": {
  "kernelspec": {
   "display_name": "ids-clone",
   "language": "python",
   "name": "ids-clone"
  },
  "language_info": {
   "codemirror_mode": {
    "name": "ipython",
    "version": 3
   },
   "file_extension": ".py",
   "mimetype": "text/x-python",
   "name": "python",
   "nbconvert_exporter": "python",
   "pygments_lexer": "ipython3",
   "version": "3.8.11"
  }
 },
 "nbformat": 4,
 "nbformat_minor": 4
}
