{
  "cells": [
    {
      "cell_type": "markdown",
      "metadata": {
        "id": "wMbLH5hRyyhh"
      },
      "source": [
        "# Fast text - TripleM"
      ]
    },
    {
      "cell_type": "markdown",
      "metadata": {
        "id": "NxFK-Gv2y3KP"
      },
      "source": [
        "## Install requirements"
      ]
    },
    {
      "cell_type": "markdown",
      "metadata": {
        "id": "ArxgCUZTy6JO"
      },
      "source": [
        "## Load Libraries"
      ]
    },
    {
      "cell_type": "code",
      "execution_count": null,
      "metadata": {
        "id": "9TGfkPj6dVbe",
        "vscode": {
          "languageId": "python"
        }
      },
      "outputs": [],
      "source": [
        "import fasttext.util\n",
        "import zipfile\n",
        "import gensim\n",
        "import numpy as np\n",
        "import json\n",
        "import random\n",
        "from sklearn.metrics import pairwise_distances\n",
        "from scipy.spatial.distance import cosine\n",
        "from sklearn.cluster import AgglomerativeClustering\n",
        "from sklearn.cluster import SpectralCoclustering\n",
        "from scipy.stats import gaussian_kde\n",
        "from collections import Counter\n",
        "import matplotlib.pyplot as plt\n",
        "from sklearn.cluster import AgglomerativeClustering, SpectralClustering, DBSCAN"
      ]
    },
    {
      "cell_type": "markdown",
      "metadata": {},
      "source": [
        "## Settings"
      ]
    },
    {
      "cell_type": "code",
      "execution_count": null,
      "metadata": {
        "vscode": {
          "languageId": "python"
        }
      },
      "outputs": [],
      "source": [
        "path = \"/home/matej/Documents/FRI/NLP/NLP-tripleM/src\""
      ]
    },
    {
      "cell_type": "markdown",
      "metadata": {
        "id": "8kPwKHrEzGAV"
      },
      "source": [
        "## Load Fasttext model"
      ]
    },
    {
      "cell_type": "code",
      "execution_count": null,
      "metadata": {
        "colab": {
          "base_uri": "https://localhost:8080/"
        },
        "id": "dPrOhqGXdJle",
        "outputId": "9c5c51af-d5d8-419e-cd3b-aa7f47cf9716",
        "vscode": {
          "languageId": "python"
        }
      },
      "outputs": [
        {
          "name": "stderr",
          "output_type": "stream",
          "text": [
            "Warning : `load_model` does not return WordVectorModel or SupervisedModel any more, but a `FastText` object which is very similar.\n"
          ]
        }
      ],
      "source": [
        "path_to_fast_text_model = f\"{path}/pretrained models/Fasttext/cc.sl.300.bin\"\n",
        "ft = fasttext.load_model(path_to_fast_text_model)"
      ]
    },
    {
      "cell_type": "markdown",
      "metadata": {
        "id": "dAJKg2SzzIge"
      },
      "source": [
        "## Load data"
      ]
    },
    {
      "cell_type": "code",
      "execution_count": null,
      "metadata": {
        "colab": {
          "base_uri": "https://localhost:8080/"
        },
        "id": "3l179Exjeq8Z",
        "outputId": "3a8fa4e0-7696-4af4-e799-52f712d59dd2",
        "vscode": {
          "languageId": "python"
        }
      },
      "outputs": [
        {
          "data": {
            "text/plain": [
              "array(['leto', 'dan', 'konec', 'svet', 'stran', 'mesto', 'šola', 'ura',\n",
              "       'beseda', 'pot', 'red', 'zakon', 'zadeva', 'srce', 'tema',\n",
              "       'resnica', 'moški', 'vloga', 'kraj', 'stanje', 'škoda', 'film',\n",
              "       'večer', 'vrh', 'jutro', 'kazen', 'oblast', 'račun', 'novica',\n",
              "       'milijon', 'par', 'krog', 'tip', 'punca', 'sila', 'vir', 'las',\n",
              "       'akcija', 'meter', 'prst', 'kri', 'stik', 'grad', 'znak', 'lik',\n",
              "       'direktor', 'vodja', 'raven', 'kolo', 'rob', 'gost', 'duh',\n",
              "       'praznik', 'vest', 'korist', 'vedenje', 'tek', 'kup', 'otok',\n",
              "       'razstava', 'bitje', 'motor', 'karta', 'nevarnost', 'hitrost',\n",
              "       'kos', 'zob', 'stroj', 'kamen', 'župan', 'šef', 'vrtec', 'kot',\n",
              "       'deček', 'avgust', 'tok', 'jezero', 'klop', 'čelo', 'hip', 'kupec',\n",
              "       'pojav', 'čaj', 'postava', 'dolg', 'standard', 'jesen', 'rak',\n",
              "       'grob', 'plus', 'les', 'vez', 'polica', 'minus', 'plan', 'posoda',\n",
              "       'restavracija', 'jok', 'krilo', 'sol', 'rod', 'stres', 'trditev',\n",
              "       'faks', 'sled', 'gol', 'župnik', 'servis', 'prid', 'ustava',\n",
              "       'mora', 'pop', 'lokal', 'prevod', 'bazen', 'veda', 'plaža',\n",
              "       'pesek', 'opravljanje', 'bolnica', 'hoja', 'raj', 'maček', 'baza',\n",
              "       'kocka', 'sejem', 'bar', 'hodnik', 'lisica', 'skala', 'lev', 'vek',\n",
              "       'talent', 'peč', 'termin', 'krivec', 'lega', 'tableta',\n",
              "       'pogajanje', 'obrat', 'kampanja', 'očka', 'med', 'stop', 'plast',\n",
              "       'golf', 'mina', 'kip', 'pod', 'para', 'prilika', 'slovo', 'piknik',\n",
              "       'boja', 'krajina', 'nona', 'odpuščanje', 'draga', 'faktor', 'bit',\n",
              "       'vodnik', 'razgled', 'popoldan', 'pol', 'obresti', 'paša', 'pust',\n",
              "       'teza', 'koda', 'predsodek', 'instrument', 'smuč', 'pečica',\n",
              "       'nestrpnost', 'lok', 'bob', 'obrt', 'kopanje', 'rez', 'pok',\n",
              "       'jarek', 'peščica', 'metal', 'palček', 'ruta', 'solo', 'hod'],\n",
              "      dtype='<U12')"
            ]
          },
          "execution_count": 6,
          "metadata": {},
          "output_type": "execute_result"
        }
      ],
      "source": [
        "with open('/mydrive/data.json') as json_file:\n",
        "    data = json.load(json_file)\n",
        "with open('/mydrive/data_lema.json') as json_file:\n",
        "    data_lema = json.load(json_file)\n",
        "with open('/mydrive/data_pos.json') as json_file:\n",
        "    data_len = json.load(json_file)\n",
        "\n",
        "words = np.load(\"/mydrive/words.npy\")\n",
        "words"
      ]
    },
    {
      "cell_type": "markdown",
      "metadata": {
        "id": "6qP3q3bAzK3W"
      },
      "source": [
        "## Prepare sentences"
      ]
    },
    {
      "cell_type": "code",
      "execution_count": null,
      "metadata": {
        "id": "oWpAzJI3dDji",
        "vscode": {
          "languageId": "python"
        }
      },
      "outputs": [],
      "source": [
        "min_number_of_words = 8\n",
        "min_neighbor_distance = 6"
      ]
    },
    {
      "cell_type": "code",
      "execution_count": null,
      "metadata": {
        "colab": {
          "base_uri": "https://localhost:8080/"
        },
        "id": "q-ykw00Jeyf_",
        "outputId": "73ccc2eb-c31f-41ac-b6c9-2bbcf0ba14b7",
        "vscode": {
          "languageId": "python"
        }
      },
      "outputs": [
        {
          "name": "stdout",
          "output_type": "stream",
          "text": [
            "2064\n"
          ]
        }
      ],
      "source": [
        "number_of_sentences_to_use = 3000\n",
        "for keyword in ['golf']:\n",
        "    all_sentences2=data[keyword][:min(number_of_sentences_to_use, len(data[keyword]))]\n",
        "    all_sentences_lema2=data_lema[keyword][:min(number_of_sentences_to_use, len(data[keyword]))]\n",
        "\n",
        "    all_sentences = []\n",
        "    all_sentences_lema = []\n",
        "    for sentence, sentence_lema in zip(all_sentences2, all_sentences_lema2):\n",
        "      if len(sentence) >= min_number_of_words:\n",
        "\n",
        "        if sentence_lema not in all_sentences_lema:\n",
        "          all_sentences.append(sentence)\n",
        "          all_sentences_lema.append(sentence_lema)\n",
        "\n",
        "\n",
        "    \n",
        "    #Remove duplicate sentences if any\n",
        "    #all_sentences=remove_diplicate_sentences(all_sentences)\n",
        "    #all_sentences_lema=remove_diplicate_sentences(all_sentences_lema)\n",
        "\n",
        "    print(len(all_sentences))\n",
        "    \n",
        "    all_embeddings=np.zeros((len(all_sentences),300))\n",
        "    #all_embeddings = []\n",
        "    \n",
        "    for i in range(len(all_sentences)): #iterate through the sentences for the given keyword\n",
        "\n",
        "        keyword_position = all_sentences_lema[i].index(keyword)\n",
        "        #all_sentences[i].pop(keyword_position)\n",
        "        \n",
        "        centroid=np.zeros(300)\n",
        "        words_added=0\n",
        "        \n",
        "        for word_index, word in enumerate(all_sentences[i]): #iterate through the words in the sentence\n",
        "            \n",
        "              if word_index!=keyword_position and abs(word_index - keyword_position) < min_neighbor_distance:\n",
        "                  centroid+=ft.get_word_vector(word.lower())\n",
        "                  words_added+=1\n",
        "                \n",
        "        if words_added==0: #there are wierd sentences where only the keyword is the whole sentence\n",
        "            continue\n",
        "            \n",
        "        centroid/=words_added\n",
        "        all_embeddings[i,:]=centroid\n",
        "          \n",
        "    \n",
        "    break #this break means that we terminate on the first word\n",
        "    \n",
        "#~np.all(all_embeddings == 0, axis=1) this checks if there are any only-zero rows meaning that we did not have any word embedding for that sentence"
      ]
    },
    {
      "cell_type": "code",
      "execution_count": null,
      "metadata": {
        "id": "XPbnMBThhCpX",
        "vscode": {
          "languageId": "python"
        }
      },
      "outputs": [],
      "source": [
        "#Some utility functions which are used\n",
        "def cos_similarity(x, y):\n",
        "    return np.dot(x, y) / (np.linalg.norm(x) * np.linalg.norm(y))\n",
        "\n",
        "def remove_diplicate_sentences(a):\n",
        "    b_set = set(map(tuple,a))  #need to convert the inner lists to tuples so they are hashable\n",
        "    b = list(map(list,b_set)) #Now convert tuples back into lists (maybe unnecessary?)\n",
        "    return b"
      ]
    },
    {
      "cell_type": "code",
      "execution_count": null,
      "metadata": {
        "id": "3k3K0gd-hAWp",
        "vscode": {
          "languageId": "python"
        }
      },
      "outputs": [],
      "source": [
        "distances={}\n",
        "for i in range(all_embeddings.shape[0]):\n",
        "    for j in range(i+1,all_embeddings.shape[0],1):\n",
        "        distances[str(i)+'-'+str(j)] = cos_similarity(all_embeddings[i,:], all_embeddings[j,:])"
      ]
    },
    {
      "cell_type": "code",
      "execution_count": null,
      "metadata": {
        "id": "86h3OmmEXcck",
        "vscode": {
          "languageId": "python"
        }
      },
      "outputs": [],
      "source": [
        "distances = dict(sorted(distances.items(), key=lambda x:x[1]))"
      ]
    },
    {
      "cell_type": "markdown",
      "metadata": {
        "id": "VwQb_FLJlj2Q"
      },
      "source": [
        "## Analyze worst 50 distances"
      ]
    },
    {
      "cell_type": "code",
      "execution_count": null,
      "metadata": {
        "colab": {
          "base_uri": "https://localhost:8080/"
        },
        "id": "A7yIoKjGllIQ",
        "outputId": "bd955101-22ac-4743-d1e7-3b6ec3c27dff",
        "vscode": {
          "languageId": "python"
        }
      },
      "outputs": [
        {
          "name": "stdout",
          "output_type": "stream",
          "text": [
            "-0.45298597292820186\n",
            "V noči na torek so z Ljubljanske ulice v Grosupljem ukradli cordobinega bratranca prav tako modrega golfa 1.9 TDI\n",
            "GOLF D II 5V prodam # 031 791 479\n",
            "-----\n",
            "-0.4394853786941152\n",
            "Omeniti velja tudi golfsko igrišče Penha Longa Golf Club\n",
            "GOLF D II 5V prodam # 031 791 479\n",
            "-----\n",
            "-0.42207533231170763\n",
            "GOLF Odprto prvenstvo Slovenije nadaljevanje danes in jutri ob 8. uri na igrišču na Bledu\n",
            "GOLF D II 5V prodam # 031 791 479\n",
            "-----\n",
            "-0.4189564452759347\n",
            "GOLF 1.9 TDI letnik 1994 100.000 km 5V rdeč euro kljuka CZ prodam # 031 382 088\n",
            "GOLF D II 5V prodam # 031 791 479\n",
            "-----\n",
            "-0.4141880351830505\n",
            "Tenis atletika košarka nogomet rokomet golf zelo specifični športi\n",
            "Prodam Golf JX l. 88 reg. do 8 99\n",
            "-----\n",
            "-0.4137894263317615\n",
            "GOLF D II 5V prodam # 031 791 479\n",
            "GOLF 1.9 TDI VARIANT LET 2000 MET SREBRN KLIMA ABS 4X AIR BAG OHRANJEN 2.640.000 SIT AVTO LESCE D.\n",
            "-----\n",
            "-0.4078497150357563\n",
            "Člani Golf kluba grad Otočec Novo mesto plačajo samo najem igralne površine\n",
            "GOLF D II 5V prodam # 031 791 479\n",
            "-----\n",
            "-0.4077519850412678\n",
            "Jack Nicklaus nekoč eden najboljših igralcev golfa sedaj organizator turnirjev\n",
            "GOLF D II 5V prodam # 031 791 479\n",
            "-----\n",
            "-0.40748180205118917\n",
            "Članice Golf kluba Grad Otočec imajo svojo sekcijo in uspešno predstavljajo klub na medklubskih tekmovanjih v Sloveniji\n",
            "GOLF D II 5V prodam # 031 791 479\n",
            "-----\n",
            "-0.4044285379997352\n",
            "GOLF D II 5V prodam # 031 791 479\n",
            "Golf ženske 10. Šarkanj 11. Orehek moški 1. Gornik vsi Slo\n",
            "-----\n",
            "-0.3985168779431226\n",
            "7.00 Atletika Svetovno prvenstvo Atene Grčija prenos 9.30 Tenis ATP turnir Cincinnati ZDA 11.00 Cart indycar Lexington Ohio ZDA 12.00 Motociklizem Euro Open prenos 14.00 Atletika Svetovno prvenstvo Atene Grčija 15.00 Golf prenos 16.30 Atletika Svetovno prvenstvo Atene Grčija prenos 20.00 Touring Car 20.30 Cart indycar Lexington Ohio ZDA 21.00 Cart indycar Lexington Ohio ZDA prenos dirke 23.00 Atletika Svetovno prvenstvo Atene Grčija 0.00 Tenis ATP turnir Cincinnati ZDA 2.00 Konec\n",
            "GOLF D II 5V prodam # 031 791 479\n",
            "-----\n",
            "-0.3950036233624844\n",
            "V noči na torek so z Ljubljanske ulice v Grosupljem ukradli cordobinega bratranca prav tako modrega golfa 1.9 TDI\n",
            "Če bi upoštevali zgolj te ste bralci Nedelskega za finale določili naslednje avte peugeot 407 mazda RX 8 golf citroen C4 in audi A6\n",
            "-----\n",
            "-0.3942396507118686\n",
            "Golf Club Bled prireja sekcijska družabna in medklubska tekmovanja s klubi iz tujine sodelovali bodo tudi v alpski ligi\n",
            "GOLF D II 5V prodam # 031 791 479\n",
            "-----\n",
            "-0.3940411834474397\n",
            "9.00 Takeshi's Castle 9.45 DSF reportaža 10.15 Baseball Max 10.45 NBA od znotraj 11.15 World Soccer 11.45 Normal oddaja za invalidne osebe 12.15 Gillette World Sport Special 12.45 DSF reportaža 13.15 Nogomet 2. nemška zvezna liga 14.00 Powderhausen TV 14.30 Stoke 15.15 MotorVision 16.15 Motobike Polo magazin 17.00 Formula 1 trening za kvalifikacije 18.00 Nogomet 2. nemška zvezna liga 19.00 Nogomet 22.45 Golf evropska turneja 23.45 Wrestling SPW Monday Nitro 1.15 Reklamna oddaja 1.45 Nočni show 2.15 Monster Trucks\n",
            "GOLF D II 5V prodam # 031 791 479\n",
            "-----\n",
            "-0.3934148753538177\n",
            "V noči na torek so z Ljubljanske ulice v Grosupljem ukradli cordobinega bratranca prav tako modrega golfa 1.9 TDI\n",
            "GOLF JX D 6 letnik 1990 lita platišča lepo ohranjen ugodno prodam # 068 322 208\n",
            "-----\n",
            "-0.39193066136489313\n",
            "V noči na torek so z Ljubljanske ulice v Grosupljem ukradli cordobinega bratranca prav tako modrega golfa 1.9 TDI\n",
            "V velikosti 195 65 R 15 T uporabna na modelih VW Golf Audi A4 BMW 3 se je letos pomerilo 17 kompletov zimskih gum in dva kompleta celoletnih\n",
            "-----\n",
            "-0.39161998971436335\n",
            "V noči na torek so z Ljubljanske ulice v Grosupljem ukradli cordobinega bratranca prav tako modrega golfa 1.9 TDI\n",
            "Prodam Golf JX l. 88 reg. do 8 99\n",
            "-----\n",
            "-0.39161985727393633\n",
            "Zmanjšujejo ali odpravljajo bolečine ki jih povzročajo revma artritis išijas lumbago igranje tenisa golfa košarke\n",
            "Prodam Golf JX l. 88 reg. do 8 99\n",
            "-----\n",
            "-0.3905114259821472\n",
            "GOLF 1.9 tdi klimatronik limuzina letnik 1998 prodam\n",
            "GOLF D II 5V prodam # 031 791 479\n",
            "-----\n",
            "-0.389749104699047\n",
            "GOLF JX D letnik 1987 3V registriran do 12 98 prodam # 068 75 262\n",
            "V noči na torek so z Ljubljanske ulice v Grosupljem ukradli cordobinega bratranca prav tako modrega golfa 1.9 TDI\n",
            "-----\n"
          ]
        }
      ],
      "source": [
        "distances_keys = list(distances.keys())\n",
        "already_were = [] #to je zato ker se stavke ponavljajo in ne zanimajo nas iste kombinacije znova\n",
        "count=0\n",
        "for key in distances_keys[0:20]:\n",
        "    print(distances[key])\n",
        "    first, second = map(int, key.split('-'))\n",
        "    first_sent, second_sent = ' '.join(all_sentences[first]), ' '.join(all_sentences[second])\n",
        "    \n",
        "    if first_sent+second_sent in already_were:\n",
        "        continue\n",
        "    \n",
        "    count+=1\n",
        "    already_were.append(first_sent+second_sent)\n",
        "    print(first_sent+'\\n'+second_sent)\n",
        "    print('-----')\n",
        "    if count==20:\n",
        "        break"
      ]
    },
    {
      "cell_type": "markdown",
      "metadata": {
        "id": "8tOvXp5wltjv"
      },
      "source": [
        "## Analyze best 50 distances"
      ]
    },
    {
      "cell_type": "code",
      "execution_count": null,
      "metadata": {
        "colab": {
          "base_uri": "https://localhost:8080/"
        },
        "id": "F3oBz8TclvH3",
        "outputId": "843b100c-5089-4706-9884-31c71b4fc2f8",
        "vscode": {
          "languageId": "python"
        }
      },
      "outputs": [
        {
          "name": "stdout",
          "output_type": "stream",
          "text": [
            "0.967584459508883\n",
            "Teri in njena hči sta že nekajkrat tudi bivali v rezidenci Bushevih v Mainu igralka je družini spekla ovsene piškote šli so na ribolov in igrali golf\n",
            "Golfi passati in seati so na Primorskem in Notranjskem izginjali od novembra lani do januarja letos ko so tatovom na prste stopili kriminalisti\n",
            "-----\n",
            "0.9700030372688244\n",
            "Royal and Ancient Golf Club of St. Andrews seveda še vedno ostaja klub odprt le moškim kar je v napadu feminizma tudi super\n",
            "Če je igralec v dvomu da bi z uporabo določenega pripomočka kršil 14.3 pravilo se mora posvetovati s klubom The Royal and Ancient Golf Club of St. Andrews\n",
            "-----\n",
            "0.9737352934198731\n",
            "Če je igralec v dvomu da bi z uporabo določenega pripomočka kršil 14.3 pravilo se mora posvetovati s klubom The Royal and Ancient Golf Club of St. Andrews\n",
            "Izdelovalec lahko pošlje klubu The Royal and Ancient Golf Club of St. Andrews vzorec pripomočka ki ga namerava izdelovati s prošnjo za presojo njegove skladnosti s 14.3 pravilom če bi ga igralec uporabil med dogovorjenim krogom\n",
            "-----\n",
            "0.9744792457226362\n",
            "V segmentu C z majhno rastjo so kompaktni avti z oplom astro in volkswagnom golfom na čelu\n",
            "Z dobrimi 43 odstotki ali 6633 avtomobili je naš najmočnejši avtomobilski razred spodnji srednji z meganom felicio accentom golfom in astro na čelu\n",
            "-----\n",
            "0.9747017572698999\n",
            "Sklenil je da bo povezal Mongolijo in golf odločil se je da bo celotno površino te azijske države izkoristil kot igrišče za golf z 18 luknjami ki jih je sam označil\n",
            "Svojo kolegico je posvaril da bo ženski golf izpostavila posmehu ko se bo postavila po robu najboljšim moškim igralcem\n",
            "-----\n",
            "0.9759887840050171\n",
            "Zgodovina Golf balzam za telo dušo in posel\n",
            "Golf za telo in dušo Lilijana Kenda lastnica galerije Lala pravi da je golf odlična rekreacija\n",
            "-----\n",
            "0.9786905629745123\n",
            "GOLF JX D 6 letnik 1990 lita platišča lepo ohranjen ugodno prodam # 068 322 208\n",
            "GOLF JX D letnik 1990 5 prestav registriran do 8 99 prodam za 690.000 SIT # 068 49 941\n",
            "-----\n",
            "0.9802189292105734\n",
            "BLED 10. Na blejskem igrišču za golf se je začelo evropsko prvenstvo za mladince\n",
            "BLED 25. Na blejskem igrišču za golf se je začelo BTC Odprto prvenstvo Slovenije v golfu ki spada v verigo challenge tekmovanj evropske zveze\n",
            "-----\n",
            "0.9823220631906373\n",
            "GOLF D letnik 1989 registriran do 10 01 prodam # 041 542 115\n",
            "GOLF D letnik 1987 registriran do 28.3.1999 prodam # 068 325 334\n",
            "-----\n",
            "0.9836789822212825\n",
            "GOLF D letnik 1988 registriran do 7 98 prodam\n",
            "GOLF D letnik 1989 registriran do 10 01 prodam # 041 542 115\n",
            "-----\n",
            "0.9837753921522321\n",
            "GOLF D letnik 1988 registriran do 7 98 prodam\n",
            "GOLF D letnik 1987 registriran do 28.3.1999 prodam # 068 325 334\n",
            "-----\n",
            "0.991837131508863\n",
            "11.30 GOLF DA TE KAP I amer. film\n",
            "20.05 Golf da te kap I Caddysask ameriška komedija\n",
            "-----\n",
            "0.9950799469657403\n",
            "Miami Najboljši igralec golfa na svetu Tiger Woods je podpisal še eno sponzorsko pogodbo\n",
            "Lozana Najboljši igralec golfa na svetu Tiger Woods je navdušen medtem ko nekateri govorijo o katastrofi\n",
            "-----\n",
            "0.9990549488636385\n",
            "GOLF Variant Basis 1.9 TDi 74kW 4MOT 3.991.890\n",
            "GOLF Variant Basis 1.9 TDi 66kW Avt. 3.835.677\n",
            "-----\n",
            "0.9999999999999999\n",
            "9.00 Svoboden v divji Afriki 9.30 Okus po Italiji 10.00 Po vseh golf igriščih sveta 10.30 Okus po Franciji 11.00 O zgodbah in potovanjih 12.00 Transazija 13.00 Capriceina potovanja 13.30 Veliki pobeg 14.00 Okus po Italiji 14.30 Sanjske destinacije 15.00 Odkrivamo Avstralijo 16.00 Pojdimo v\n",
            "8.00 Transazija 9.00 Floyd v Ozu 9.30 Okus po Italiji 10.00 Po vseh golf igriščih sveta 10.30 Okus po Franciji 11.00 Na vrhu sveta 12.00 Afriški šampanjski vlaki 13.00 Capriceina potovanja 13.30 Veliki pobeg 14.00 Pot se nadaljuje 14.30 Dubai 15.00 Mississippi reka pesmi 16.00 Transazija 17.00 Turist 17.30 Čez ekvator obe Ameriki 18.00 Sprehod po Zemlji 18.30 Avventura Potovanja po italijanski kuhinji 19.00 Pot se nadaljuje 19.30 Dubai 20.00 Največja potovanja na svetu 21.00 Floyd v Ozu 21.30 Debeluh iz Kenta 22.00 Najdlje a najlepše 23.00 Svoboden v divji Afriki 23.30 Na obzorju 0.00 Dominikin planet 1.00 Oceanija 1.30 Veliki pobeg\n",
            "-----\n",
            "0.9999999999999999\n",
            "9.00 Svoboden v divji Afriki 9.30 Okus po Italiji 10.00 Po vseh golf igriščih sveta 10.30 Okus po Franciji 11.00 O zgodbah in potovanjih 12.00 Transazija 13.00 Capriceina potovanja 13.30 Veliki pobeg 14.00 Okus po Italiji 14.30 Sanjske destinacije 15.00 Odkrivamo Avstralijo 16.00 Pojdimo v\n",
            "8.00 Transazija 9.00 Nad oblaki 9.30 Okus po Italiji 10.00 Po vseh golf igriščih sveta 10.30 Okus po Franciji 11.00 Na vrhu sveta 12.00 Tropska potovanja 13.00 Capriceina potovanja 13.30 Veliki pobeg 14.00 Okus po Italiji 14.30 Floyd v Španiji 15.00 Mississippi reka pesmi 16.00 Transazija 17.00 Turist 17.30 Čez ekvator obe Ameriki 18.00 Sprehod po planetu Zemlja 18.30 Avventura Potovanje po italijanski kuhinji 19.00 Od Pekinga do Pariza 19.30 Stopinje na planetu Zemlja 20.00 Največja potovanja na svetu 21.00 Nad oblaki 21.30 Debeluh iz Kenta 22.00 Najdlje a najlepše 23.00 Zdravnikove stopinje 23.30 Na obzorju 0.00 Dominikin planet 1.00 Oceanija 1.30 Veliki pobeg\n",
            "-----\n",
            "0.9999999999999999\n",
            "GOLF PLUS 1,9 TDI 66 kW 18.320 EUR\n",
            "GOLF PLUS 1,9 TDI 66 kW 4.487.000 SIT\n",
            "-----\n",
            "0.9999999999999999\n",
            "Obžalujeva pa da nekateri poslanci LDS ki so v zadnjem času sicer naredili izpite in dobili dovoljenje za igro golfa etike obnašanja v golfu še ne obvladajo\n",
            "Obžalujeva pa da nekateri poslanci LDS ki so v zadnjem času sicer naredili izpite in dobili dovoljenje za igro golfa etike obnašanja v golfu še ne obvladajo sta zapisala v sporočilu za javnost\n",
            "-----\n",
            "0.9999999999999999\n",
            "8.00 Transazija 9.00 Floyd v Ozu 9.30 Okus po Italiji 10.00 Po vseh golf igriščih sveta 10.30 Okus po Franciji 11.00 Na vrhu sveta 12.00 Afriški šampanjski vlaki 13.00 Capriceina potovanja 13.30 Veliki pobeg 14.00 Pot se nadaljuje 14.30 Dubai 15.00 Mississippi reka pesmi 16.00 Transazija 17.00 Turist 17.30 Čez ekvator obe Ameriki 18.00 Sprehod po Zemlji 18.30 Avventura Potovanja po italijanski kuhinji 19.00 Pot se nadaljuje 19.30 Dubai 20.00 Največja potovanja na svetu 21.00 Floyd v Ozu 21.30 Debeluh iz Kenta 22.00 Najdlje a najlepše 23.00 Svoboden v divji Afriki 23.30 Na obzorju 0.00 Dominikin planet 1.00 Oceanija 1.30 Veliki pobeg\n",
            "8.00 Transazija 9.00 Nad oblaki 9.30 Okus po Italiji 10.00 Po vseh golf igriščih sveta 10.30 Okus po Franciji 11.00 Na vrhu sveta 12.00 Tropska potovanja 13.00 Capriceina potovanja 13.30 Veliki pobeg 14.00 Okus po Italiji 14.30 Floyd v Španiji 15.00 Mississippi reka pesmi 16.00 Transazija 17.00 Turist 17.30 Čez ekvator obe Ameriki 18.00 Sprehod po planetu Zemlja 18.30 Avventura Potovanje po italijanski kuhinji 19.00 Od Pekinga do Pariza 19.30 Stopinje na planetu Zemlja 20.00 Največja potovanja na svetu 21.00 Nad oblaki 21.30 Debeluh iz Kenta 22.00 Najdlje a najlepše 23.00 Zdravnikove stopinje 23.30 Na obzorju 0.00 Dominikin planet 1.00 Oceanija 1.30 Veliki pobeg\n",
            "-----\n",
            "1.0\n",
            "8.00 Iz domače skrinje ponovitev 10.00 Evropski golf turnirji ponovitev 10.30 TV prodaja 11.30 Video strani 13.30 TV prodaja 14.30 Poslovne informacije 15.00 Iz domače skrinje ponovitev 16.30 Motor Show Report 17.00 Juke Box kontaktna oddaja 18.30 Avto šou 19.00 Razvoj avtomobilizma 19.30 Poslovne informacije 20.00 Sijaj kontaktna oddaja 21.00 Reporter X 21.30 Iz domače skrinje kontaktna oddaja 23.00 Poslovne informacije 23.30 Juke Box ponovitev\n",
            "8.00 Iz domače skrinje ponovitev 10.00 Evropski golf turnirji ponovitev 10.30 TV prodaja 11.30 Video strani 13.30 TV prodaja 14.30 Mobi TV 15.00 Iz domače skrinje ponovitev 16.30 Motor Show Report 17.00 Juke Box kontaktna oddaja 18.30 Avto šou 19.00 Razvoj avtomobilizma 19.30 Mobi TV 20.00 Sijaj kontaktna oddaja 21.00 Reporter X 21.30 Iz domače skrinje kontaktna oddaja 23.00 Mobi TV 23.30 Juke Box ponovitev\n",
            "-----\n"
          ]
        }
      ],
      "source": [
        "distances_keys = list(distances.keys())\n",
        "already_were = [] #to je zato ker se stavke ponavljajo in ne zanimajo nas iste kombinacije znova\n",
        "count=0\n",
        "for key in distances_keys[-20:]:\n",
        "    print(distances[key])\n",
        "    first, second = map(int, key.split('-'))\n",
        "    first_sent, second_sent = ' '.join(all_sentences[first]), ' '.join(all_sentences[second])\n",
        "    if first_sent+second_sent in already_were:\n",
        "        continue\n",
        "    \n",
        "    count+=1\n",
        "    already_were.append(first_sent+second_sent)\n",
        "    print(first_sent+'\\n'+second_sent)\n",
        "    print('-----')\n",
        "    if count==20:\n",
        "        break"
      ]
    },
    {
      "cell_type": "markdown",
      "metadata": {
        "id": "FXnJzRh0lzMZ"
      },
      "source": [
        "## Construct similarity distance matrix"
      ]
    },
    {
      "cell_type": "code",
      "execution_count": null,
      "metadata": {
        "colab": {
          "base_uri": "https://localhost:8080/"
        },
        "id": "eRJ7usWXl0TW",
        "outputId": "d3c7268b-17cc-4e9a-b620-8b7838298f9f",
        "vscode": {
          "languageId": "python"
        }
      },
      "outputs": [
        {
          "data": {
            "text/plain": [
              "4260096"
            ]
          },
          "execution_count": 14,
          "metadata": {},
          "output_type": "execute_result"
        }
      ],
      "source": [
        "#print(all_embeddings.shape)\n",
        "distance_matrix=(pairwise_distances(all_embeddings,metric=\"cosine\"))\n",
        "similarity_matrix=1-distance_matrix\n",
        "\n",
        "\n",
        "#density plot\n",
        "similarity_matrix_flatten = similarity_matrix.reshape(len(similarity_matrix)**2)\n",
        "density = gaussian_kde(similarity_matrix_flatten)\n",
        "density.covariance_factor = lambda : .5\n",
        "len(similarity_matrix_flatten)\n",
        "#plt.plot(similarity_matrix_flatten, density(similarity_matrix_flatten))\n",
        "#plt.show()\n"
      ]
    },
    {
      "cell_type": "code",
      "execution_count": null,
      "metadata": {
        "colab": {
          "base_uri": "https://localhost:8080/"
        },
        "id": "xolygXcLaCZz",
        "outputId": "b9d0d633-21fc-4a01-9d1e-ea6d31789e89",
        "vscode": {
          "languageId": "python"
        }
      },
      "outputs": [
        {
          "data": {
            "text/plain": [
              "1.4529859729282022"
            ]
          },
          "execution_count": 15,
          "metadata": {},
          "output_type": "execute_result"
        }
      ],
      "source": [
        "np.max(distance_matrix)"
      ]
    },
    {
      "cell_type": "code",
      "execution_count": null,
      "metadata": {
        "colab": {
          "base_uri": "https://localhost:8080/"
        },
        "id": "Yqqx5BAnaLMc",
        "outputId": "06821dbf-26a3-4b1a-a3ca-ded41db89111",
        "vscode": {
          "languageId": "python"
        }
      },
      "outputs": [
        {
          "data": {
            "text/plain": [
              "-0.4529859729282022"
            ]
          },
          "execution_count": 16,
          "metadata": {},
          "output_type": "execute_result"
        }
      ],
      "source": [
        "np.min(similarity_matrix)"
      ]
    },
    {
      "cell_type": "code",
      "execution_count": null,
      "metadata": {
        "id": "LEwY7kRdmdZ1",
        "vscode": {
          "languageId": "python"
        }
      },
      "outputs": [],
      "source": [
        "best_distances_indices=[]\n",
        "\n",
        "best_scores_indices=[]\n",
        "for i in list(distances.keys()):\n",
        "    first, second = i.split('-')\n",
        "    if distances[i]>0.9:\n",
        "        best_scores_indices.append(first)\n",
        "        best_scores_indices.append(second)\n",
        "\n",
        "\n",
        "best_scores_indices=(np.unique(best_scores_indices))\n",
        "best_scores_indices = best_scores_indices.astype(int)\n",
        "all_embeddings_selected = all_embeddings[best_scores_indices, :]\n",
        "\n",
        "distance_matrix=(pairwise_distances(all_embeddings_selected,metric=\"cosine\"))"
      ]
    },
    {
      "cell_type": "code",
      "execution_count": null,
      "metadata": {
        "id": "VvqNkvhUmfRz",
        "vscode": {
          "languageId": "python"
        }
      },
      "outputs": [],
      "source": [
        "all_sentences_selected = []\n",
        "for i in best_scores_indices:\n",
        "    all_sentences_selected.append(all_sentences[i])"
      ]
    },
    {
      "cell_type": "markdown",
      "metadata": {
        "id": "UH2N2k3Mmo_b"
      },
      "source": [
        "## Clustering"
      ]
    },
    {
      "cell_type": "code",
      "execution_count": null,
      "metadata": {
        "colab": {
          "base_uri": "https://localhost:8080/"
        },
        "id": "a2puzTZwmmYV",
        "outputId": "dc1fe6d5-d59d-45e1-8973-23b5f14132ad",
        "vscode": {
          "languageId": "python"
        }
      },
      "outputs": [
        {
          "name": "stdout",
          "output_type": "stream",
          "text": [
            "Counter({0: 599, 1: 4})\n",
            "Counter({0: 579, 1: 24})\n",
            "Counter({0: 577, 1: 26})\n"
          ]
        }
      ],
      "source": [
        "clusters = AgglomerativeClustering(affinity='precomputed', linkage='single', n_clusters=2).fit(distance_matrix)\n",
        "print(Counter(clusters.labels_))\n",
        "clusters = AgglomerativeClustering(affinity='precomputed', linkage='average', n_clusters=2).fit(distance_matrix)\n",
        "print(Counter(clusters.labels_))\n",
        "clusters = AgglomerativeClustering(affinity='precomputed', linkage='complete', n_clusters=2).fit(distance_matrix)\n",
        "print(Counter(clusters.labels_))"
      ]
    },
    {
      "cell_type": "code",
      "execution_count": null,
      "metadata": {
        "colab": {
          "base_uri": "https://localhost:8080/"
        },
        "id": "gT3U-ZIamvx8",
        "outputId": "9067e209-0088-4c5f-89ad-652bc8571ddb",
        "vscode": {
          "languageId": "python"
        }
      },
      "outputs": [
        {
          "name": "stdout",
          "output_type": "stream",
          "text": [
            "4 : 9.00 Golf evropska turneja 9.30 Reklamna oddaja 10.00 Confederations Cup 12.00 Reklamna oddaja 12.30 Confederations Cup 14.30 NHL Stanley Cup 15.15 Pago Pago 16.00 Xapatan 16.30 Takeshi's Castle 17.00 Pago Pago 17.45 Košarka 18.00 DSF novinarski center 18.30 DSF reportaža 19.00 Dvoboj DSF kviz 19.40 DSF novinarski center 20.00 U 21 22.00 DSF novinarski center 22.15 Confederations Cup 23.15 Touchdown Gatorade nogometni magazin 23.45 Golf evropska turneja 0.45 Extreme Situations 1.15 Reklamna oddaja 1.45 Reklamna oddaja\n",
            "47 : 8.30 Jahanje pon. 9.30 Golf pon. 10.30 Motorsport pon. 11.00 Automagazin\n",
            "51 : Članice Golf kluba Grad Otočec imajo svojo sekcijo in uspešno predstavljajo klub na medklubskih tekmovanjih v Sloveniji\n",
            "87 : 8.00 Iz domače skrinje ponovitev 10.00 Evropski golf turnirji ponovitev 10.30 TV prodaja 11.30 Video strani 13.30 TV prodaja 14.30 Poslovne informacije 15.00 Iz domače skrinje ponovitev 16.30 Motor Show Report 17.00 Juke Box kontaktna oddaja 18.30 Avto šou 19.00 Razvoj avtomobilizma 19.30 Poslovne informacije 20.00 Sijaj kontaktna oddaja 21.00 Reporter X 21.30 Iz domače skrinje kontaktna oddaja 23.00 Poslovne informacije 23.30 Juke Box ponovitev\n",
            "96 : Če je igralec v dvomu da bi z uporabo določenega pripomočka kršil 14.3 pravilo se mora posvetovati s klubom The Royal and Ancient Golf Club of St. Andrews\n",
            "97 : Izdelovalec lahko pošlje klubu The Royal and Ancient Golf Club of St. Andrews vzorec pripomočka ki ga namerava izdelovati s prošnjo za presojo njegove skladnosti s 14.3 pravilom če bi ga igralec uporabil med dogovorjenim krogom\n",
            "98 : Tak vzorec postane last kluba The Royal and Ancient Golf Club of St. Andrews ki ga hrani za dokazne namene\n",
            "130 : 22.15 GOLF VRHUNCI UVODNEGA DNE TURNIRJA V SURREYU\n",
            "134 : 9.00 Nogomet 11.00 Golf evropska turneja 11.30 Reklamna oddaja 12.00 Speed Zone 12.30 Reklamna oddaja 13.00 It's A Knock Out 14.00 Sports Bakka 14.30 Zimski športi 15.30 Motobike Polo magazin 16.30 Gillette World Sport 17.00 Nevzdržno 17.15 Cooltour Potovalni magazin 18.00 DSF novinarski center 18.20 Dvoboj kviz 19.00 DSF reportaža 19.30 Nevzdržno 20.00 DSF novinarski center 20.15 Prenos Odbojka 22.15 DSF novinarski center 22.30 MotorVision 23.30 Wrestling SP Thunder 0.30 Monster Trucks 1.00 Speed Zone 1.15 Reklamna oddaja 2.15 Monster Trucks\n",
            "138 : GOLF 1.4 CL letnik 1996 dobro ohranjen ugodno prodam # 0608 43 313\n",
            "173 : GOLF 1.9 tdi klimatronik limuzina letnik 1998 prodam\n",
            "177 : 8.30 Powderhausen TV 9.00 PK TV 9.30 World Soccer 10.00 MotorVision 11.00 Golf evropska turneja magazin 11.30 Reklamna oddaja 12.00 Speed Zone 12.30 Reklamna oddaja 13.00 Motobike magazin 14.00 Xapatan 14.30 It's A Knock Out 15.30 Xapatan 16.00 English Gladiators 17.00 It's A Knock Out 18.00 DSF novinarski center 18.30 Nevzdržno 19.00 Dvoboj kviz 19.40 DSF novinarski center 19.45 Formula 1 prosti trening prenos za VN ZDA v Indianapolisu 21.15 DSF novinarski center 21.30 Nogomet 2. nemška zvezna liga 22.30 Viererkette 23.03 Golf Ryderjev pokal 0.30 UEFA Champions League Magazin\n",
            "210 : 8.00 Dežniki 8.15 Zares divja zabava 8.40 Posel 9.05 Modri Peter 9.25 Grange Hill 10.00 Dr. Who 10.25 Modni izziv 10.50 Pripravljeni pozor kuhajte 11.20 Vreme 11.25 Eastenders 12.45 Modni izziv 13.15 Pripravljeni pozor kuhajte 13.45 Kilroy 14.30 Divje življenje 15.00 Ljubezen boli 15.50 Vreme 16.00 Pes Monty 16.05 Vse se vrne 16.30 Podzemni škrat 16.55 Grange Hill 17.30 Golf z Billom Oddiem 18.00 Top of the Pops 18.30 Dr. Who 19.00 Očetova vojska 19.30 So vam že postregli\n",
            "221 : GOLF 1.4 CL letnik 1993 42.000 km 4 vrata rdeč ohranjen prodam # 068 44 784\n",
            "300 : 18.00 Golf vrhunci tretjega dne turnirja v Münchnu\n",
            "316 : 8.30 Golf US PGA Tour 9.30 Nogomet Evropsko prvenstvo do 21 let Švica 10.30 Avtomoto šport series 11.00 Tenis Odprto prvenstvo Francije Pariz 16.30 Kolesarstvo Giro d'Italia 17.30 Tenis Odprto prvenstvo Francije Pariz 21.00 Tenis Odprto prvenstvo Francije Pariz 22.00 Nogomet V akciji 22.30 Nogomet Moštva za SP 23.00 Novice 23.15 Nogomet Gillette Dream Team 0.15 Nogomet Moštva za SP 0.45 Gorsko kolesarstvo 1.15 Novice\n",
            "323 : 8.30 Golf US PGA Tour 9.30 Športni avtomobilizem Automagazin 10.00 Kolesarstvo Tour de France 11.00 Plavanje Svetovno prvenstvo Fukuoka Japonska 12.30 Atletika Iaaf Grand Prix I Miting Stockholm Švedska 14.00 Jadranje 14.30 Gorsko kolesarstvo UCI Svetovni pokal Grouse mountain Kanada 15.00 Konjeništvo 16.00 Atletika Iaaf Grand Prix I Miting Stockholm Švedska 17.30 Odbojka na mivki Svetovna turneja Lignano Sabbiadoro Italija 18.00 Plavanje Svetovno prvenstvo Fukuoka Japonska 19.00 Ekstremni športi Samo za mlade 19.30 Kolesarstvo Tour de France 20.00 Boks 22.00 Kolesarstvo Tour de France 23.00 Novice 23.15 Rally FIA Svetovno prvenstvo Safari rally Kenija 23.45 Plavanje Svetovno prvenstvo Fukuoka Japonska 0.45 Rally FIA Svetovno prvenstvo Safari rally Kenija 1.15 Novice\n",
            "346 : 8.00 Iz domače skrinje ponovitev 10.00 Evropski golf turnirji ponovitev 10.30 TV prodaja 11.30 Video strani 13.30 TV prodaja 14.30 Mobi TV 15.00 Iz domače skrinje ponovitev 16.30 Motor Show Report 17.00 Juke Box kontaktna oddaja 18.30 Avto šou 19.00 Razvoj avtomobilizma 19.30 Mobi TV 20.00 Sijaj kontaktna oddaja 21.00 Reporter X 21.30 Iz domače skrinje kontaktna oddaja 23.00 Mobi TV 23.30 Juke Box ponovitev\n",
            "386 : 8.30 Šport moči 9.30 Monster Trucks 10.00 MotorVision 11.00 Golf Evropska turneja magazin 11.30 Reklamna oddaja 12.00 Gillette World Sport Special 12.30 Reklamna oddaja 13.00 Xapatan 13.30 Takeshi's Castle 14.15 Pago Pago 15.00 Jet Sprints 15.30 Thundercats 16.00 Xapatan 16.30 Takeshi's Castle 17.15 Pago Pago 18.00 DSF novinarski center 18.30 InTeam magazin nemške zvezne lige 19.00 DSF novinarski center 19.30 PK TV 20.00 DSF novinarski center 20.15 MotorVision 21.15 MotorVision 22.15 DSF novinarski center 22.30 Viererkette 23.30 NBA od znotraj 0.30 Wow Fan Power 1.30 Reklamna oddaja 2.00 Nočni show 2.30 Lumberjack\n",
            "413 : GOLF Variant Basis 1.9 TDi 74kW 4MOT 3.991.890\n",
            "414 : GOLF Variant Basis 1.9 TDi 66kW Avt. 3.835.677\n",
            "420 : 8.00 Dežniki 8.15 Zares divja zabava 8.40 Posel 9.05 Modri Peter 9.25 Grange Hill 10.00 Dr. Who 10.25 Modni izziv 10.50 Pripravljeni pozor kuhajte 11.20 Vreme 11.25 Eastenders 12.45 Modni izziv 13.15 Pripravljeni pozor kuhajte 13.45 Kilroy 14.30 Najavljeno 15.00 Ljubezen boli 15.50 Vreme 15.55 Mop in Smiff 16.10 Vse se vrne 16.35 Modri Peter 16.55 Grange Hill 17.30 Golf z Billom Oddiem 18.00 Top of the Pops 18.30 Dr. Who 19.00 Očetova vojska 19.30 So vam že postregli\n",
            "428 : Royal and Ancient Golf Club of St. Andrews seveda še vedno ostaja klub odprt le moškim kar je v napadu feminizma tudi super\n",
            "517 : 8.30 Golf 9.30 Triatlon 10.00 Tovornjaki 10.30 Nogomet Pokal UEFA 12.30 Avtomoto šport 13.00 Olimpijske igre Sydney 13.30 Olimpijske igre Sydney 14.00 Tenis WTA turnir Linz Avstrija 17.00 Nogomet Pokal UEFA 18.30 Tenis ATP turnir Toulouse Francija 20.30 Pikado 22.00 Boks 22.45 Rally FIA rally za svetovno prvenstvo Sanremo Italija 23.00 Novice 23.15 Sumo 0.15 Motociklizem S ceste 1.15 Novice\n",
            "560 : GOLF 1.9 TDI letnik 1994 100.000 km 5V rdeč euro kljuka CZ prodam # 031 382 088\n",
            "576 : Člani Golf kluba grad Otočec Novo mesto plačajo samo najem igralne površine\n"
          ]
        }
      ],
      "source": [
        "for i,label in enumerate(clusters.labels_):\n",
        "    if label==1:\n",
        "        print(i,':', ' '.join(all_sentences_selected[i]))"
      ]
    },
    {
      "cell_type": "code",
      "execution_count": null,
      "metadata": {
        "colab": {
          "base_uri": "https://localhost:8080/"
        },
        "id": "iTgTWr_km70L",
        "outputId": "bef35bc4-31f6-4699-a392-e59c64d32e6c",
        "vscode": {
          "languageId": "python"
        }
      },
      "outputs": [
        {
          "name": "stdout",
          "output_type": "stream",
          "text": [
            "Counter({2: 208, 0: 204, 1: 191})\n"
          ]
        }
      ],
      "source": [
        "spectral = SpectralClustering(3, affinity=\"precomputed\").fit_predict(distance_matrix)\n",
        "print(Counter(spectral))\n"
      ]
    },
    {
      "cell_type": "code",
      "execution_count": null,
      "metadata": {
        "colab": {
          "base_uri": "https://localhost:8080/"
        },
        "id": "sEFs_UTLfd0f",
        "outputId": "2e149926-a4b7-4acb-f7a2-b00d29c96dcb",
        "vscode": {
          "languageId": "python"
        }
      },
      "outputs": [
        {
          "name": "stdout",
          "output_type": "stream",
          "text": [
            "1 : Opoldne se z Aaronom odpeljeva na partijo golfa\n",
            "2 : Vsaj če sodimo po novem Volkswagnovem bencinskem izdelku ki so mu nadeli ime TSI in je na voljo tudi v golfu\n",
            "6 : Golf za telo in dušo Lilijana Kenda lastnica galerije Lala pravi da je golf odlična rekreacija\n",
            "9 : No če ste mogoče pomislili da je česa manjkalo se motite vsega je bilo ravno prav in najbolj zagreti so se lahko poskusili še v pravem golfu\n",
            "10 : Sonja pa tudi odvetnik Peter Čeferin so pokazali da palice za golf v rokah zagotovo niso držali prvič\n",
            "11 : Odprto prvenstvo ZDA v golfu ob 102. izvedbi prvič na javnem igrišču\n",
            "12 : V zadku je prtljažnik ki z najmanj 246 litri pri odprti in 315 litri pri zaprti strehi sprejme dve torbi z opremo za golf\n",
            "13 : Dobri primeri so Andy Roddick Richard Gasquet in Tatiana Golovin v tenisu ali Lorena Ochoa Cristie Kerr José Maria Olazabal in Raphaël Jacquelin v golfu\n",
            "15 : Za poznavalce golfa ki so na tem mestu verjetno postali že strašno radovedni naj povemo da so za razliko od zelenega pri belem golfu razdalje pri posameznih luknjah med 120 in 180 metri torej za tretjino krajše\n",
            "17 : Igrišče na Bledu je najbrž veliko pridobilo s kranjsko delniško družbo Sava ki je 73 odstotni lastnik družbe Golf in kamp Bled d. d.\n",
            "19 : Iztok se je z golfom pripeljal iz smeri Ljubečne\n",
            "20 : AUGUSTA 14. Zmagovalec turnirja masters v golfu Augusta National ki se je končal v ameriški zvezni državi Georgiji je Američan Mark O'Meara ki je v štirih dneh zbral 279 udarcev\n",
            "24 : GOLF JX D letnik 1990 registriran do 9 2000 5V bel dobro ohranjen prodam # 068 73 105\n",
            "26 : Zaradi kihanja in slabega počutja ter posledično slabe volje bi se kmalu razšla in ta ki bi takrat imel že novejši model golfa bi razmišljal da bi bilo treba hitro najti eno drugo ki bo namesto Svetlane plačevala polovico stroškov za stanovanje\n",
            "28 : Pri nas je najstarejše igrišče za golf na Bledu in zadnje ki so ga odprli v Ljubljani\n",
            "31 : Ali inercija pomaga golfu da je štiri desetletja in pet generacij nenehno v prodajnem vrhu\n",
            "37 : Izkušnje je imel le z mini golfom na morju\n",
            "40 : Renato Tino namreč spremlja že odkar je lani na Playboyevem VIP golf turnirju v zajčjem kostumu skrbela za goste\n",
            "43 : Človek ki je prej zbiral samo nepremičnine in igrišča za golf je tri leta po svetu iskal impresioniste Moneta Gaugina Renoirja\n",
            "44 : Prodamo alfo 33 1,3 93 8 98 9.700 Golf JX 89 1 98 7.800 DEM AX 87 3.300 R 4 88 2.200 ESCORT 1,6 93\n",
            "48 : Slikar Jure Cekuta tokrat ne z lastno poslikano temveč s kravato za golf\n",
            "53 : $ Neprimerna levo in sprejemljiva rešitev ureditve okolice ribnika na igrišču za golf desno\n",
            "56 : Aha še to tisto z golfom je bilo bolj za šalo\n",
            "57 : Skupina ljudi ki spremlja golf se razlikuje od tistih ki spremljajo nogomet in izbruhi jeze so nezaželeni\n",
            "58 : GOLF JE BIL in je še vedno priljubljen tudi med ameriškimi predsedniki\n",
            "61 : Ob tega je predsednik golf kluba Sava mnogim pa je dobro znan kot uvoznik opreme Taylor Made in Adidas golf\n",
            "62 : SPA V Živi v hotelu Golf so na voljo bazeni s termalno vodo svet savn in center lepote telesa in duha z različnimi kopelmi masažami in lepotnimi negami\n",
            "65 : Po opredelitvi je namreč sodnik oseba ki jo imenuje tekmovalna komisija da spremlja igralce odloča o morebitnih vprašanjih in o uporabi pravil golfa\n",
            "71 : Tako so naposled nastale slike 18 neobstoječih igrišč za golf nanje je namestil luknjice za golf in sicer pred Victorinijine slapove v Afriki in Grand kanjon v Ameriki pred japonsko Fudžijamo pa na Antarktiko na Wallstreet in pred bavarski dvorec Ludwiga II\n",
            "72 : To je tisti Golf ki je privlačen že samo zaradi imena in svoje zgodovine je pa seveda tudi tehnično odličen\n",
            "74 : Volkswagen Golf letnik 1999 je po elektronski plati povsem drugačen kot recimo Golf letnik 2001 česar pa uporabnik med vožnjo ne bo opazil\n",
            "75 : BLED 12. Na blejskem igrišču za golf so predstavili začetek sodelovanja treh dežel avstrijske Koroške Furlanije Julijske krajine in Slovenije ki se jim je pridružila še četrta regija Benečija\n",
            "79 : BLED 12. Na blejskem igrišču za golf so sklenili štiridnevno mednarodno amatersko prvenstvo Slovenije v golfu\n",
            "82 : No Tone je svojo izjavo o golfu ki je resda le malokdo ne pozna pojasnil in razložil na svoji nedavni poslovilni zabavi pod Pohorjem\n",
            "83 : Za golf se namreč tako zagrejejo da potem vse proste urice preživijo na igriščih\n",
            "84 : Golf je bil že od nekdaj priljubljen avtomobil med Slovenci k čemur je v polpretekli zgodovini delno pripomogel tudi sarajevski golf\n",
            "89 : Udeležilo se ga je deset slovenskih učiteljev golfa ki so bili s prikazanim zelo zadovoljni in enotnega mnenja da je bil ta seminar do sedaj na najviš jem strokovnem nivoju\n",
            "90 : V GLAVAH VODILNIH IN ODGOVORNIH NA GOLF ZVEZI SLOVENIJE SE JE PRED ŠTIRIMI LETI PORODILA IDEJA O ORGANIZACIJI GOLFSKEGA TURNIRJA NA KATEREGA BI BILI POVABLJENI VSI GOLFISTI KI SO ČLANI KLUBOV GZS\n",
            "95 : Še enkrat bi rad poudaril da se mi zdi ta ustanovitev in dobro delo NSS bistvenega pomena za dvig strokovnosti na področju otroškega golfa in delo s selekcijami na nacionalnem nivoju\n",
            "96 : Če je igralec v dvomu da bi z uporabo določenega pripomočka kršil 14.3 pravilo se mora posvetovati s klubom The Royal and Ancient Golf Club of St. Andrews\n",
            "98 : Tak vzorec postane last kluba The Royal and Ancient Golf Club of St. Andrews ki ga hrani za dokazne namene\n",
            "100 : Opazil sem da je Slovenija kljub temu da je majhna v golfu v primerjavi z velikimi evropskimi državami kar dobro razvita\n",
            "103 : Golf je tudi šport v katerem se vsaj v svetovnem merilu obrne ogromno denarja\n",
            "104 : V golfu mi je najbolj všeč da lahko igraš z zelo različnimi ljudmi od najmlajših do najstarejših in se lahko od vsakega naučiš marsikaj zanimivega\n",
            "105 : Tunizija je trenutno cenovno najugodnejša destinacija za igranje golfa ki jo priporočajo predvsem začetnikom zaradi ugodne cene in zelo kvalitetne šole golfa s priznanimi učitelji\n",
            "106 : Na njej je predstavnik družbe Golf Istra njeni lastniki so v enakih deležih Istrabenz Koper Adriatic Koper Luka Koper Sava Kranj in Nacionalna finančna družba iz Ljubljane Milan Vergan dejal da želijo igrišča zgraditi čim prej ker so prepričani da so pomemben del turistične infrastrukture in si kot investitorji skozi vse leto obetajo zasedenost kapacitet igrišča kakor tudi bivalnih objektov ki jih nameravajo graditi vzporedno\n",
            "109 : 2. mednarodni diplomatski turnir v golfu NA IGRIŠČU NI GOVORA O DIPLOMACIJI\n",
            "110 : Namenjena je vsem golfistom članom slovenskih golfskih klubov in tudi tistim ki se z golfom šele nameravajo spoznati\n",
            "112 : Novi Golf je postavljen na zdaj že uveljavljeno in preizkušeno podvozje ki na hodnikih tovarne Volkswagen nosi ime PQ 35\n",
            "114 : Ko se na primer igralec golfa premika proti žogi in pomisli To mi mora uspeti verjetno začuti povečan stres in tesnobo\n",
            "115 : Mnogim bodo dragoceni podatki o golf igriščih v Sloveniji in na Celjskem smučiščih vlečnicah in skakalnicah kampih planinskih postojankah ribištvu lovstvu krajevnih turističnih prireditvah in krajinskih parkih\n",
            "117 : Nenavadno je da je moral Golf zvezo Slovenije obvestiti o tem da je igrišče na Bledu neprimerno za izvedbo takega turnirja pokrovitelj BTC ki je očitno le iskal priložnost da se znebi dogovorjene finančne obveznosti\n",
            "118 : Skratka golf TDI je povsem soliden in povrhu racionalen avtomobil\n",
            "126 : Hotel Golf nominiran za najboljši resort v Evropi in Sredozemlju\n",
            "133 : Annika je prva igralka golfa ki je v enem letu zaslužila več kot dva milijona dolarjev skupno v karieri že 8,1 milijona dolarjev in prva ženska ki je v enem krogu ostala pod magično mejo 60 udarcev\n",
            "134 : 9.00 Nogomet 11.00 Golf evropska turneja 11.30 Reklamna oddaja 12.00 Speed Zone 12.30 Reklamna oddaja 13.00 It's A Knock Out 14.00 Sports Bakka 14.30 Zimski športi 15.30 Motobike Polo magazin 16.30 Gillette World Sport 17.00 Nevzdržno 17.15 Cooltour Potovalni magazin 18.00 DSF novinarski center 18.20 Dvoboj kviz 19.00 DSF reportaža 19.30 Nevzdržno 20.00 DSF novinarski center 20.15 Prenos Odbojka 22.15 DSF novinarski center 22.30 MotorVision 23.30 Wrestling SP Thunder 0.30 Monster Trucks 1.00 Speed Zone 1.15 Reklamna oddaja 2.15 Monster Trucks\n",
            "136 : GOLF JX D letnik 1988 moder 3V zelo lepo ohranjen brezhiben prodam # 041 720 038\n",
            "137 : Golf je bil z več strokovnih vidikov zavržen že leta 2004\n",
            "139 : Neslana šala ki so jo zakuhali neznanci je povzročila preplah že pred začetkom zadnjega letošnjega turnirja za veliko nagrado PGA v golfu v Chicagu\n",
            "142 : Slovenska bančna smetana se tega morda zaveda ukrene pa bolj malo svojo domnevno evropskost in svetovljanstvo sicer strastno dokazuje na igriščih za golf sledenje gibanjem v svetovnem bančništvu povezovanje in strateška podjetnost pa ji za zdaj ne gredo posebno od rok\n",
            "149 : Obžalujeva pa da nekateri poslanci LDS ki so v zadnjem času sicer naredili izpite in dobili dovoljenje za igro golfa etike obnašanja v golfu še ne obvladajo sta zapisala v sporočilu za javnost\n",
            "150 : Slovenske ceste so tako slabe da se je mogoče do igrišč za tenis in golf prebiti le z močnimi terenskimi avtomobili\n",
            "153 : Tako na povprečnem igrišču za golf na Tajskem na leto porabijo toliko vode kot bi je porabilo 60.000 lokalnih prebivalcev v ameriškem nacionalnem parku Yellowstone najstarejšem narodnem parku na svetu pa je zaradi prometa toliko smoga da včasih parka iz zraka sploh ni več videti\n",
            "154 : Možakar ki naj bi vozil belega golfa se je v Apačah zaradi prekratke varnostne razdalje zaletel v avto 46 letnega Marjana M. iz Ptuja\n",
            "157 : Ne bi rekla da je golf samo za elito namenjen je širši javnosti\n",
            "158 : Postavili so več zased in v eno se je že pri Starem Logu ulovil tovornjak na katerem pa niso bili le štirje Žužemberčani ampak tudi avto golf za katerega se je izkazalo da je bil lastninjen v Ljubljani\n",
            "159 : Z golfom se je začela ukvarjati po naključju\n",
            "163 : ČEPRAV ŠKOTSKA velja za domovino golfa pa se ta oznaka v bistvu nanaša le na njen vzhodni del\n",
            "167 : Verjetno mi lahko pritrdite da vseeno ne znamo toliko o izobraževanju v tekmovalnem golfu da ne rečem o treniranju kot tiste države ki so danes v samem golfskem vrhu\n",
            "171 : No pregled kako na igriščih za golf ravnajo na primer s kemikalijami je pokazal da je povprečna poraba gnojil na leto 390 kilogramov na hektar od 134 do 700 kilogramov povprečna poraba v Sloveniji pa znaša 451 kilogramov na hektar kar zadeva pesticide pa je povprečna poraba pol kilograma na hektar povprečje v Sloveniji v kmetijstvu je 5,2 kilograma kar je po prepričanju udeležencev ugodno in predstavlja bistveno manjše obremenitve kot ga kemikalije povzročajo v kmetijstvu\n",
            "175 : Takrat je o svojih načrtih razkrila da se namerava nastaniti na Floridi in igrati golf\n",
            "180 : GOLF JX D 6 letnik 1990 lita platišča lepo ohranjen ugodno prodam # 068 322 208\n",
            "183 : Tako sta 5. maja ponoči Vajdič in Krhlikar z golfom prispela v Metliko in se z obtoženim Sinišo odpravili na pokopališče pri cerkvi v Podzemlju kamor je čez nekaj ur prišel še neznan vodič z dvema ilegalcema državljanoma ZRJ\n",
            "186 : Ne Severina ne golf nista prepričala premiera da bi odložil že dogovorjene obveznosti in se v soboto odpeljal proti Velenju\n",
            "187 : Predstavljajte si svoje avdiokomponente palice za golf in Cerruttijevo obleko v spektakularnem kresu na dvorišču medtem ko bodo vse jezne ženske iz soseščine grizljale piškote v obliki vaših testisov\n",
            "197 : Z Ulice Metoda Mikuža za Bežigradom so ukradli črnega golfa z registracijo LJ 18 22Y\n",
            "203 : Svojo kolegico je posvaril da bo ženski golf izpostavila posmehu ko se bo postavila po robu najboljšim moškim igralcem\n",
            "204 : Tiger je pač izrazil svoje mnenje vendar vse to delam v dobro ženskega golfa se hrabro drži Sörenstamova na njeno stran pa se je postavila tudi teniška legenda Billie Jean King\n",
            "210 : 8.00 Dežniki 8.15 Zares divja zabava 8.40 Posel 9.05 Modri Peter 9.25 Grange Hill 10.00 Dr. Who 10.25 Modni izziv 10.50 Pripravljeni pozor kuhajte 11.20 Vreme 11.25 Eastenders 12.45 Modni izziv 13.15 Pripravljeni pozor kuhajte 13.45 Kilroy 14.30 Divje življenje 15.00 Ljubezen boli 15.50 Vreme 16.00 Pes Monty 16.05 Vse se vrne 16.30 Podzemni škrat 16.55 Grange Hill 17.30 Golf z Billom Oddiem 18.00 Top of the Pops 18.30 Dr. Who 19.00 Očetova vojska 19.30 So vam že postregli\n",
            "211 : To poletje se podaj na zelena igrišča in se preizkusi v igranju golfa\n",
            "213 : Golf je edinstven prav v tem da si igralci redno in po predpisih pripisujejo kazni sami sami skrbijo za zapisovanje rezultatov svojo opremo in upoštevanje pravil igre\n",
            "216 : Celoten izkupiček dražbe je skupaj s sredstvi zbranimi na golf turnirju z akcijo Nearest to the pin znašal 2,5 milijona tolarjev\n",
            "218 : Ko je namreč koroški deželni glavar Joerg Haider na igrišču za golf v zvezi z avnojskimi sklepi pred časom kritiziral slovensko ustavo mu je slovenski veleposlanik odgovoril da ta tema ne sodi na igrišče za golf\n",
            "224 : Domov se je pripeljal z jeepom bil je na golfu jutri se bo odpeljal za nekaj dni na morje kjer ima hišo in jadrnico\n",
            "226 : 8.00 Transazija 9.00 Floyd v Ozu 9.30 Okus po Italiji 10.00 Po vseh golf igriščih sveta 10.30 Okus po Franciji 11.00 Na vrhu sveta 12.00 Afriški šampanjski vlaki 13.00 Capriceina potovanja 13.30 Veliki pobeg 14.00 Pot se nadaljuje 14.30 Dubai 15.00 Mississippi reka pesmi 16.00 Transazija 17.00 Turist 17.30 Čez ekvator obe Ameriki 18.00 Sprehod po Zemlji 18.30 Avventura Potovanja po italijanski kuhinji 19.00 Pot se nadaljuje 19.30 Dubai 20.00 Največja potovanja na svetu 21.00 Floyd v Ozu 21.30 Debeluh iz Kenta 22.00 Najdlje a najlepše 23.00 Svoboden v divji Afriki 23.30 Na obzorju 0.00 Dominikin planet 1.00 Oceanija 1.30 Veliki pobeg\n",
            "229 : GOLF CLD letnik 1991 registriran do 4 2000 85.000 km sive kovinske barve zelo lepo ohranjen prodam # 068 42 764 ali 041 773 485\n",
            "230 : GOLF letnik 1996 registriran do 7 2000 servisna knjižica garažiran odlično ohranjen prodam # 068 53 003\n",
            "238 : SE VAM ZDI DA JE GOLF LAHKO DOBER POSEL\n",
            "239 : Da golf ni samo prijetno doživetje in zdrava rekreacija temveč predvsem posel saj se samo v ZDA s prodajo golf žogic obrne skoraj 650 mio dolarjev na leto\n",
            "242 : Ali če se ti zdi da ti golf v življenju nekaj pomeni da je to tvoj način življenja\n",
            "244 : Ko je sonce pozno popoldne prebilo oblake se je blejsko igrišče za golf pokazalo v vsej svoji lepoti\n",
            "245 : Kraljica profesionalne odbojke na mivki ki se poskuša tudi v profesionalnem golfu\n",
            "248 : Konjiško golf igrišče je po besedah direktorja Lešnika edinstveno saj se razteza med škalskimi vinogradi\n",
            "249 : Bled Na blejskem igrišču za mali golf je bilo že 3\n",
            "250 : Verjetno najbolj originalen hobi pa je predelava palic za golf v turbo palice z vdelanim eksplozivnim nabojem\n",
            "254 : Sedel je v golfa in iz še vedno neznanega vzroka z njim zapeljal v morje\n",
            "259 : Tudi blejsko igrišče za golf je na dosegu roke\n",
            "270 : Zelo resno jih zanima prenova starega portoroškega Palacea je potrdil Bavčar vlagali bodo v golf in letališče v Sečovljah\n",
            "280 : Omenjene spremembe in dejstvo da je golf v tem času doživel največje oblikovne modifikacije so botrovali tudi precej višji ceni\n",
            "283 : Zasegli so mu tudi golfa ki bi ga morda lahko vozil v torek zvečer po Gorjancih\n",
            "284 : Bo pa Golf v začetku na razpolago v štirih motornih različicah bencinski sta 1,4 in 1,6 FSI turbodizelski 1,9 TDI in 2,0 TDI 16V\n",
            "285 : Tokrat jo je skupil voznik golfa z nemško registracijo\n",
            "288 : Hobi 25 letne tehtnice je tudi igranje golfa v prihodnosti pa bi rada vpisala podiplomski študij in doktorirala iz novinarstva\n",
            "289 : Osemdeset odstotkov prostora je namenjeno nogometu malo ragbiju golfu in kriketu potem pa se že neha\n",
            "291 : Z osebnim avtom VW golf se je v soboto okoli 8.20 peljal po Derčevi ulici v Ljubljani 19 letni Ljubljančan A. L. V blagem desnem nepreglednem ovinku je prehitel več vozil nato pa trčil v varovalno ograjo ob pločniku\n",
            "294 : O večnih pomislekih povezanih z urejanjem prostora je znova poudaril da golf igrišča ne povečujejo in da niti kvadratnega metra od 250 hektarov urejenih pašnikov ne bodo namenili za turistične objekte\n",
            "295 : Slovenskih krščanskih demokratov galeb časnika Republika in seveda Pravi demokrat je samo demokrat Demokratske stranke da se je pognala naravnost čez Celovško kjer jo je zbil Stanko iz Ljubljane z golfom v katerem smo na zadnji polici videli Janševe Premike\n",
            "296 : Konkurenca je bila kar ostra prvih pet avtomobilov po danskem okusu pa je mazda3 opel meriva golf V toyota avensis in fiat panda\n",
            "302 : V Lipici so zaradi protestov naravovarstvenikov preložili povečevanje igrišča za golf\n",
            "303 : Za volkswagen golf variant se je v dveh generacijskih podobah odločilo za kateri več kot 1,2 milijona kupcev ki jim sedaj nemški proizvajalec namenja nov model\n",
            "306 : Golfa ne igrata zato to ni bil razlog pri izbiri kraja za večni da všeč jima je bil lep ambient in sistem vse na enem mestu je povedala nevestina najboljša prijateljica kolegica iz fakultetnih dni\n",
            "307 : Voznik golfa in sopotnik v fiesti sta bila hudo ranjena M. Ž. pa lažje\n",
            "309 : MOKRICE V galeriji Meke v Golf hotelu grad Mokrice so v četrtek 20. maja zvečer odprli vsakoletno pregledno razstavo del likovnikov Posavja\n",
            "316 : 8.30 Golf US PGA Tour 9.30 Nogomet Evropsko prvenstvo do 21 let Švica 10.30 Avtomoto šport series 11.00 Tenis Odprto prvenstvo Francije Pariz 16.30 Kolesarstvo Giro d'Italia 17.30 Tenis Odprto prvenstvo Francije Pariz 21.00 Tenis Odprto prvenstvo Francije Pariz 22.00 Nogomet V akciji 22.30 Nogomet Moštva za SP 23.00 Novice 23.15 Nogomet Gillette Dream Team 0.15 Nogomet Moštva za SP 0.45 Gorsko kolesarstvo 1.15 Novice\n",
            "322 : Mislimo na Volkswagnovo tehnično odličnost ter že skoraj pregovorno kakovost materialov in izdelave ki so golfa v njegovem razredu naredili za nedotakljivega\n",
            "325 : Mogoče si že kdaj kosil travo na igriščih za golf toda stavila bi da vse do danes golfa še nikoli nisi igral\n",
            "327 : S 1712 primerki sledi grande punto tretji pa je letošnje veliko presenečenje kia ceed saj je prehitel megana in golfa\n",
            "328 : Lovrenc na Dravskem polju Policisti pozivajo očividce prometne nesreče ki se je zgodila v petek malo pred deseto zvečer na regionalni cesti v Lovrencu na Dravskem polju naj se oglasijo na najbližji policijski postaji ali pokličejo na 113 poziv še posebej velja vozniku rdečega golfa ki je bil udeležen v nesreči\n",
            "333 : Vseskozi je vozil tako da je golfu s sireno zapiral pot\n",
            "335 : Golf je po zraku odneslo s ceste zaletel se je v drevo ter na kolesih obstal na robu struge potoka\n",
            "337 : Pripravili so turnir v golfu tenisu košarki prvič pa so se povabljeni lahko udeležili kolesarjenja po poteh med Slovenskimi Konjicami in Zrečami\n",
            "338 : Tu mislim na smučišče pohodništvo na golf igrišče ki se bo gradilo ob letališču na gostinsko in drugo turistično ponudbo na razne prireditve v občini zmajarstvo kolesarjenje ter ne nazadnje na občudovanja vredne naravne in kulturno zgodovinske lepote naših krajev pod Krvavcem\n",
            "339 : GOLF JX D letnik 1988 registriran do 2 98 bel 3V dobro ohranjen prodam # 068 73 105\n",
            "343 : V mojem časopisu ki ga berem od takrat ko je bil še Ljudska pravica berem o golfu ki ga igrajo pomembneži Ker se kamermani ne smejo sprehajati po fairwayih navadno vidimo samo udarec z driverjem na prvem teeju in patanje na greenu ali kar zarotniški pomenek po igri pred country klubom\n",
            "348 : Američan Todd Hamilton je zmagovalec 133. odprtega prvenstva Velike Britanije v golfu na igriščih v škotskem Troonu\n",
            "349 : Bo to Golf Rabbit ali pa Vas je prepričal drzen Leon Scorpion\n",
            "351 : Že pred zamenjavo hrošča z golfom je bilo očitno da ima pri konstruiranju osebnih avtomobilov prihodnost samonosna karoserija ki ima ob ustrezni zasnovi med trkom sposobnost absorbiranja velike količine energije\n",
            "353 : Glede na prejšnjo generacijo je pri golfu 3 torzijska trdnost narasla za 30 % skupaj s povečanjem potniškega prostora pa se je zmanjšala tudi hrupnost v vozilu\n",
            "356 : 8.00 Transazija 9.00 Nad oblaki 9.30 Okus po Italiji 10.00 Po vseh golf igriščih sveta 10.30 Okus po Franciji 11.00 Na vrhu sveta 12.00 Tropska potovanja 13.00 Capriceina potovanja 13.30 Veliki pobeg 14.00 Okus po Italiji 14.30 Floyd v Španiji 15.00 Mississippi reka pesmi 16.00 Transazija 17.00 Turist 17.30 Čez ekvator obe Ameriki 18.00 Sprehod po planetu Zemlja 18.30 Avventura Potovanje po italijanski kuhinji 19.00 Od Pekinga do Pariza 19.30 Stopinje na planetu Zemlja 20.00 Največja potovanja na svetu 21.00 Nad oblaki 21.30 Debeluh iz Kenta 22.00 Najdlje a najlepše 23.00 Zdravnikove stopinje 23.30 Na obzorju 0.00 Dominikin planet 1.00 Oceanija 1.30 Veliki pobeg\n",
            "357 : Za tak denar lahko štirikolesni pogon dobite tudi v večjem uporabnejšem in prijetnejšem Golfu\n",
            "359 : Novi Volkwswagen Golf bo v Sloveniji naprodaj že od prvega februarja 2004\n",
            "361 : Za ljubitelje golfa so zgrajeni posebni prostori za shranjevanje opreme garderoba trgovina z golfsko opremo in recepcija\n",
            "362 : Sicer je golf že v osnovi bogato opremljen ABS dve zračni blazini servo volan a na primer preprog radijskega sprejemnika ali česa podobnega se ne bi branil nihče\n",
            "365 : Za golf so se prebivalci Azije začeli ogrevati konec 80. let prejšnjega stoletja zmagoviti pohod pa je nadaljeval tudi v 90. pač v skladu z gospodarsko rastjo v azijskih državah\n",
            "366 : Iz Ljubljane ni daleč do igrišč za golf ki so obkrožena z lepo gorsko pokrajino kot tudi do Jadranskega morja\n",
            "369 : V golfu se je peljala sama ko pa je hotela speljati se pri tem ni pravočasno odzvala in je na cesti naredila pravi manjši prometni zastoj\n",
            "371 : Cooper ki je že nekaj časa v rokerskem pokoju v prostem času pa se najraje ukvarja z golfom bo tako eden od investitorjev v sedemmilijonskem projektu na območju fakultete Grand Canyon v Phoenixu\n",
            "376 : Celovit zabaviščni center ki poleg igralnic kongresnih zabaviščnih in wellness centrov vključuje tudi površine ki so namenjene športnim dejavnostim golf je tista oblika ki ima najmanj negativnih vplivov na socialno okolje saj je kompleks kot tak v prvi vrsti namenjen turistom piše v resoluciji\n",
            "381 : Po dvajsetih mesecih prodajanja na največjem trgu v Južni Ameriki je prehitel VW golf ki je doslej kraljeval na tem tržišču\n",
            "382 : LONDON 22. Kradljivca žogic za golf so sprva obsodili na kar šestmesečno zaporno kazen nato pa se je sodnik višjega sodišča odločil da je kazen za Britanca le prehuda in ga je obsodil na dveletno pogojno kazen\n",
            "383 : Ček ki ga je v imenu Slovenske narodne podporne jednote predsednici uprave sklada Biserki Marolt Meden izročil predsednik Joseph C. Evanish so po že ustaljenem običaju zbrali v sklopu vsakoletnega turnirja v golfu\n",
            "384 : Ljubljana Golfi so med avtomobilskimi tatovi najbolj iskani štirikolesniki in v noči na ponedeljek so v Ljubljani ukradli športno različico tega volkswagna\n",
            "386 : 8.30 Šport moči 9.30 Monster Trucks 10.00 MotorVision 11.00 Golf Evropska turneja magazin 11.30 Reklamna oddaja 12.00 Gillette World Sport Special 12.30 Reklamna oddaja 13.00 Xapatan 13.30 Takeshi's Castle 14.15 Pago Pago 15.00 Jet Sprints 15.30 Thundercats 16.00 Xapatan 16.30 Takeshi's Castle 17.15 Pago Pago 18.00 DSF novinarski center 18.30 InTeam magazin nemške zvezne lige 19.00 DSF novinarski center 19.30 PK TV 20.00 DSF novinarski center 20.15 MotorVision 21.15 MotorVision 22.15 DSF novinarski center 22.30 Viererkette 23.30 NBA od znotraj 0.30 Wow Fan Power 1.30 Reklamna oddaja 2.00 Nočni show 2.30 Lumberjack\n",
            "387 : Golf je zadel pešca ki je umrl na kraju nesreče\n",
            "389 : Razred golf 1. Muca Sašo Novakovič 2. Urška Luka Jovanovič 2. Nika Emil Jerkovič\n",
            "394 : Občinski svetniki so namreč že lani septembra sprejeli spremembe prostorskega načrta za ureditev igrišča za golf z 18 luknjami v neposredni bližini portoroškega letališča javna obravnava pa je bila namenjena le razpravi o vsebini golf igrišča\n",
            "404 : Kamnik Okrog sedmih zvečer je bilo ko je Kamničan poklical policiste in povedal da se je k njemu z golfom pripeljal neznanec in mu v nakup ponudil avtoradio\n",
            "409 : Ko je bil vzporedno z jetto je slednji začel prehitevati golfa ne da bi se prepričal če to lahko varno stori\n",
            "411 : Za palico za golf v prostem času danes rado poprime kakih štiri tisoč Slovencev od tega je večina ljubiteljskih in le 18 poklicnih igralcev\n",
            "412 : Čeprav je TDI je takšen Golf odličen predstavnik razreda GTI ki pa se pusti peljati tudi zmerno in počasi\n",
            "413 : GOLF Variant Basis 1.9 TDi 74kW 4MOT 3.991.890\n",
            "415 : Ugotovili smo da so VW Golfi še vedno presneto dragi in za naš denar ne bi dobili mlajšega od letnika 1988 ali 1989\n",
            "416 : Golf Variant z dodatkom 4Motion je eden tistih nezahtevnih in vsestransko uporabnih avtomobilov ki bi načeloma lahko razveseljeval praktične Slovence\n",
            "418 : Slovenija se postopno oblikuje v golfsko državo čeprav še vedno zaostajajo naložbe v igrišča za golf\n",
            "419 : Nekaj podobnega velja tudi za igrišča za golf\n",
            "426 : Tudi v Šentjurju je bilo vlomljeno v parkiranega golfa serije IV. iz katerega je neznanec ukradel obe zračni blazini vredni okoli 360 tisoč tolarjev\n",
            "430 : Povezali bi se z nasprotniki posegov v Luki Koper predvsem za tretji pomol z nasprotniki načrtovanih plinskih terminalov gradnji mega zabavišča na Goriškem igrišč za golf na Krasu in v slovenski Istri in podobno\n",
            "433 : Ljubitelji golfa so praviloma premožni ljudje ki s svojim športom združujejo tudi družabnost in vsaj nekoliko zdrave fizične aktivnosti\n",
            "434 : V naši deželi več organizatorjev prireja tekmovanja za ljubiteljske igralce golfa če kateri od njih z enim samim udarcem zadene luknjo se mora odpovedati bogati nagradi\n",
            "437 : Le nekaj noči prej so na Beblerjevem trgu vlomili v starejši golf in se z njim odpeljali\n",
            "439 : Golfi passati in seati so na Primorskem in Notranjskem izginjali od novembra lani do januarja letos ko so tatovom na prste stopili kriminalisti\n",
            "440 : Ne vem kako bilo pa bi prav da se se polemike o Lipici in golfu nehajo\n",
            "442 : Z dobrimi 43 odstotki ali 6633 avtomobili je naš najmočnejši avtomobilski razred spodnji srednji z meganom felicio accentom golfom in astro na čelu\n",
            "445 : LJUBLJANA Policisti s policijskega oddelka Polje so v četrtek ob 20.10 hiteli na Kašeljsko cesto ker je tam lastnik golfa držal vlomilca ki ga je zalotil v svojem avtu\n",
            "450 : Pred približno dvema mesecema so navedeni mladoletniki na Litostrojski vlomili v golfa in ga poskušali ukrasti kar pa jim ni uspelo\n",
            "455 : Denar iz omenjenega sklada naj bi porabili tudi za nakup tekmovalnih konj pa tudi za plačilo članarin v prestižnih golf klubih v Tokiu\n",
            "456 : Po igriščih za golf se igralci ponavadi vozijo v ljubkih električnih vozilcih\n",
            "458 : Dosegel sem tisto kar sem si želel čeprav moram priznati da tako močnih čustev na golf igrišču še nisem doživel je priznal Woods ki je zmago dokončno potrdil na zadnji luknji z birdijem udarcem pod parom\n",
            "459 : Trije mladi prijatelji so mu verjeli in sedli v njegov golf\n",
            "464 : Odgovor v hotelih Golf in Park na Bledu v hotelih Jezero in Zlatorog v Bohinju je bil izstreljen kot iz topa Danes ni proste postelje\n",
            "466 : Igrišče za golf je še vedo mogoče preorati in ponovno obdelovati\n",
            "467 : Na blejskem Playboyjevem VIP golf turnirju so udeleženci dokazali da luknjo lahko osvojiš na več načinov\n",
            "469 : Golf pa je Volkswagnov najpomembnejši avtomobil oziroma že skoraj ikona razreda C kjer je leta 1974 postavil temelje s prvo generacijo in nato skozi nadaljnje štiri ves čas ostajal eden izmed najbolj zaželenih avtomobilov tega razreda ki se je v 24 letni zgodovini ustvaril širok krog zvestih ljubiteljev\n",
            "470 : Imam občutek da gradimo igrišče za golf zato da prodajamo apartmaje in da gradimo garažne hiše zato da delamo in prodajamo stanovanja je povedal svetnik Alojz Zorn\n",
            "473 : Dvolitrski dizel v golfu je uglajen prožen in zmogljiv ob tem v povprečju porabi le 4,5 litra nafte na sto kilometrov\n",
            "477 : Zato sem pripravljena več trenirati sicer mi je pa golf zaenkrat bolj v zabavo\n",
            "479 : Če seštejemo vse stroške ki so potrebni da se posameznik prelevi v igralca golfa naletimo na kar visoke številke\n",
            "482 : Zanimivo je da so ljubitelji golfa v naslednjih letih največje bitke vodili prav z lastniki zajcev\n",
            "484 : Koroški golf klub Dravograd domuje na Otiškem Vrhu kjer njihovih 36 članov 25 moških in 11 žensk podi belo žogico po zelenicah\n",
            "489 : Igrišče za golf na Bledu nadaljuje z okoljevarstvenimi aktivnostmi v okviru mednarodnega programa za varstvo okolja na golfskih igriščih Committed to Green zavezani okolju\n",
            "490 : V podjetju Golf in kamp Bled d. d. čakajo na sprejem prostorsko ureditvenih pogojev s katerimi bodo izpolnjene možnosti za pripravo projektov za izgradnjo apartmajske hiše novega gospodarskega poslopja na igrišču za golf in devetih polj Jezerskega igrišča proti Vrbi\n",
            "491 : Upravljavci ki igrajo golf in v njem uživajo so kar mi je znano najbolj predana skupina posameznikov\n",
            "492 : Kasneje so predlagali da naj bi bil gostujoči upravljavec ki je označil igrišče in postavil luknje na zelenicah obsojen na igranje na lastnem igrišču ter da bi njegovi rezultati morali biti potem objavljeni ne le v njegovem klubu temveč tudi v revijah o golfu\n",
            "497 : Ko so policisti imeli le belega golfa s katerim so nadzirali dogajanje na avtocesti so se vozniki avtomatično odzvali in se pravočasno izognili srečanju z njimi\n",
            "501 : Tudi letos se bo na igrišču A golf Olimje odvijal 2\n",
            "504 : Golf ga je pritegnil zaradi intenzivne in načrtne rekreacije ki mu poleg tega nudi tudi razne druge priložnosti saj se pri golfu srečuje veliko poslovnih ljudi\n",
            "511 : Čvekamo o igricah in mobilnikih in malo tudi o golfu\n",
            "520 : Najprej smo ga uporabljali v Wilsonovih teniških loparjih potem v palicah za golf pozneje pa še v Atomicovih smučarskih čevljih in smučeh\n",
            "526 : Množica je klanovce obmetavala z baterijami in žogicami za golf\n",
            "544 : A Golf se je tudi tu dobro odrezal\n",
            "546 : V Sloveniji premoremo sedem igrišč za golf enega pa še dokončujejo\n",
            "552 : Avstralska rejca kokoši sta želela spodbuditi kokoši k valjenju da sta jim podtaknila v gnezdo žogice za golf\n",
            "556 : Takrat bo šele mogoče dobiti ustrezno dovoljenje za lani urejeno igrišče za golf ali zaradi njegove majhnosti bolje vadišče na edinem slovenskem otoku\n",
            "559 : A to še ni dovolj za osnovne različice modelov spodnjega srednjega razreda ki so bolj ali manj uresničljive sanje številnih Slovencev z golfom in meganom na čelu pa astro xsaro in slovenskim avtom leta 2000 focusom\n",
            "562 : Slednji je tekmeca tako namlatil s palico za golf da so mu oči kar skočile iz jamic\n",
            "563 : Golf V JE DESIGN je obut v 18 palčna platišča s Pirellijevimi gumami velikosti 225 40 ZR 18 in znižan na športnem podvozju znamke KW\n",
            "571 : Takoj za nogometom je tu golf ki tod še zdaleč ni več le šport za izbrance ampak družinska prostočasna dejavnost in tako neredko vidiš na igrišču kar več generacij ene družine skupaj\n",
            "573 : Naša prva naloga bo vlaganje v obnovo hotela ki naj bi skupaj z igriščem za golf in kampom zagotavljal donosnost kapitala in tudi povračilo vseh vložkov\n",
            "576 : Člani Golf kluba grad Otočec Novo mesto plačajo samo najem igralne površine\n",
            "577 : Sezona igranja golfa se je uradno iztekla že konec oktobra a se je letos zaradi dokaj toplega vremena nekoliko podaljšala\n",
            "578 : Bled Včeraj so v Hotelu Golf na posebni priložnostni prireditvi ki jo je pripravilo uredništvo revije Gospodarski vestnik razglasili letošnjo gorenjsko gazelo priznanje za najhitrejše rastoče podjetje\n",
            "579 : Turnir je imel dva dela čeprav je bilo vreme bolj turobno se je prvi odvijal na Kraljevem igrišču za golf Bled večerno druženje pa se je nadaljevalo v restavraciji hotela Golf na Bledu\n",
            "580 : Včeraj se je na Bledu z odprtjem slovesnostjo uradno začelo Evropsko ekipno prvenstvo za ženske v golfu ki na blejskem igrišču za golf poteka že tretje leto zapored\n",
            "590 : Lepo je videti kako prijetno je bila slovenska delegacija sprejeta v državi kjer je golf velik biznis\n",
            "591 : Zimski treningi v pokriti dvorani Indoor Golf v BTC City-ju se dopolnjujejo s treningi in igro ob vikendih na igriščih v Italiji\n",
            "596 : Za začetek izdajmo da je Golf Livada del velikega turistič nega kompleksa s katerim upravlja delniška družba z dolgim imenom Naravni park Terme 3000 Moravske Toplice\n",
            "599 : Z golfom enega od njih so se v torek proti večeru pripeljali v dolenjsko metropolo avto pa parkirali pred tovarno zdravil Krka\n",
            "601 : Miami Najboljši igralec golfa na svetu Tiger Woods je podpisal še eno sponzorsko pogodbo\n"
          ]
        }
      ],
      "source": [
        "for i,label in enumerate(spectral):\n",
        "    if label==2:\n",
        "        print(i,':', ' '.join(all_sentences_selected[i]))"
      ]
    },
    {
      "cell_type": "code",
      "execution_count": null,
      "metadata": {
        "colab": {
          "base_uri": "https://localhost:8080/"
        },
        "id": "wih1x1zunIP5",
        "outputId": "f212eb03-af2b-4055-ec7c-ad57e9515b62",
        "vscode": {
          "languageId": "python"
        }
      },
      "outputs": [
        {
          "name": "stdout",
          "output_type": "stream",
          "text": [
            "Estimated no. of clusters: 6\n",
            "Estimated no. of noise points: 14\n",
            "Counter({0: 568, -1: 14, 1: 6, 4: 6, 2: 5, 3: 4})\n",
            "['GOLF', '1.4', 'CL', 'letnik', '1996', 'dobro', 'ohranjen', 'ugodno', 'prodam', '#', '0608', '43', '313']\n",
            "['GOLF', '1.9', 'tdi', 'klimatronik', 'limuzina', 'letnik', '1998', 'prodam']\n",
            "['GOLF', '1.4', 'CL', 'letnik', '1993', '42.000', 'km', '4', 'vrata', 'rdeč', 'ohranjen', 'prodam', '#', '068', '44', '784']\n",
            "['GOLF', 'Variant', 'Basis', '1.9', 'TDi', '74kW', '4MOT', '3.991.890']\n",
            "['GOLF', 'Variant', 'Basis', '1.9', 'TDi', '66kW', 'Avt.', '3.835.677']\n",
            "['GOLF', '1.9', 'TDI', 'letnik', '1994', '100.000', 'km', '5V', 'rdeč', 'euro', 'kljuka', 'CZ', 'prodam', '#', '031', '382', '088']\n"
          ]
        }
      ],
      "source": [
        "dbscan = DBSCAN(metric='cosine', eps=0.4, min_samples=3).fit(all_embeddings_selected)  # you can change these parameters, given just for example \n",
        "labels = dbscan.labels_ # where X - is your matrix, where each row corresponds to one document (line) from the docs, you need to cluster \n",
        "#cluster_labels\n",
        "no_clusters = len(np.unique(labels) )\n",
        "no_noise = np.sum(np.array(labels) == -1, axis=0)\n",
        "\n",
        "print('Estimated no. of clusters: %d' % no_clusters)\n",
        "print('Estimated no. of noise points: %d' % no_noise)\n",
        "\n",
        "print(Counter(labels))\n",
        "#all_sentences[np.where(labels == 1)]\n",
        "for i,label in enumerate(labels):\n",
        "    if label==4:\n",
        "        print(all_sentences_selected[i])"
      ]
    }
  ],
  "metadata": {
    "colab": {
      "collapsed_sections": [],
      "machine_shape": "hm",
      "name": "FastText - tripleM .ipynb",
      "provenance": []
    },
    "kernelspec": {
      "display_name": "Python 3",
      "name": "python3"
    }
  },
  "nbformat": 4,
  "nbformat_minor": 0
}
